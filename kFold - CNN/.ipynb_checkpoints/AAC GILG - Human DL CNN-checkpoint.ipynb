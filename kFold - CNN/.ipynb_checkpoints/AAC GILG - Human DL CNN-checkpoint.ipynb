{
 "cells": [
  {
   "cell_type": "code",
   "execution_count": 1,
   "id": "5542b766-874f-4fe9-8da4-ecd0c29c1267",
   "metadata": {
    "execution": {
     "iopub.execute_input": "2022-10-15T13:19:57.742318Z",
     "iopub.status.busy": "2022-10-15T13:19:57.741790Z",
     "iopub.status.idle": "2022-10-15T13:19:58.408940Z",
     "shell.execute_reply": "2022-10-15T13:19:58.408208Z"
    }
   },
   "outputs": [],
   "source": [
    "from tqdm.notebook import tqdm\n",
    "import os\n",
    "import pandas as pd\n",
    "import numpy as np\n",
    "from sklearn.decomposition import KernelPCA\n",
    "from sklearn.decomposition import PCA\n",
    "\n",
    "from sklearn.model_selection import KFold \n",
    "from sklearn.model_selection import StratifiedKFold\n",
    "from sklearn.metrics import precision_score\n",
    "from sklearn.metrics import recall_score\n",
    "from sklearn.metrics import f1_score\n",
    "from sklearn.metrics import multilabel_confusion_matrix\n",
    "from sklearn.metrics import accuracy_score\n",
    "from sklearn.metrics import roc_auc_score\n",
    "\n",
    "import time\n",
    "import random\n",
    "\n",
    "random.seed(1)"
   ]
  },
  {
   "cell_type": "code",
   "execution_count": null,
   "id": "e620be95-e932-45b2-9c2a-67110f14dd09",
   "metadata": {},
   "outputs": [],
   "source": []
  },
  {
   "cell_type": "code",
   "execution_count": 2,
   "id": "3bea7d2f-df1e-4485-9da3-945ec02f9bb9",
   "metadata": {
    "execution": {
     "iopub.execute_input": "2022-10-15T13:19:58.414443Z",
     "iopub.status.busy": "2022-10-15T13:19:58.414149Z",
     "iopub.status.idle": "2022-10-15T13:19:59.310357Z",
     "shell.execute_reply": "2022-10-15T13:19:59.309540Z"
    }
   },
   "outputs": [
    {
     "name": "stderr",
     "output_type": "stream",
     "text": [
      "/home/criesavian/.local/lib/python3.9/site-packages/IPython/core/interactiveshell.py:3397: DtypeWarning: Columns (8) have mixed types.Specify dtype option on import or set low_memory=False.\n",
      "  exec(code_obj, self.user_global_ns, self.user_ns)\n"
     ]
    }
   ],
   "source": [
    "# DIP = pd.read_csv(\"DIP_Feature.csv\")\n",
    "AAC = pd.read_csv(\"../AAC/AAC_Feature.csv\")\n",
    "# SPC = pd.read_csv(\"Spectrum_Feature.csv\")\n",
    "# AADIP = pd.read_csv(\"AADIP_Feature.csv\")"
   ]
  },
  {
   "cell_type": "code",
   "execution_count": 3,
   "id": "bb04f348-2d49-46f9-9af5-6fd976415c93",
   "metadata": {
    "execution": {
     "iopub.execute_input": "2022-10-15T13:19:59.317085Z",
     "iopub.status.busy": "2022-10-15T13:19:59.316854Z",
     "iopub.status.idle": "2022-10-15T13:19:59.381330Z",
     "shell.execute_reply": "2022-10-15T13:19:59.380701Z"
    }
   },
   "outputs": [
    {
     "data": {
      "text/html": [
       "<div>\n",
       "<style scoped>\n",
       "    .dataframe tbody tr th:only-of-type {\n",
       "        vertical-align: middle;\n",
       "    }\n",
       "\n",
       "    .dataframe tbody tr th {\n",
       "        vertical-align: top;\n",
       "    }\n",
       "\n",
       "    .dataframe thead th {\n",
       "        text-align: right;\n",
       "    }\n",
       "</style>\n",
       "<table border=\"1\" class=\"dataframe\">\n",
       "  <thead>\n",
       "    <tr style=\"text-align: right;\">\n",
       "      <th></th>\n",
       "      <th>Gene</th>\n",
       "      <th>CDR3</th>\n",
       "      <th>V</th>\n",
       "      <th>J</th>\n",
       "      <th>Species</th>\n",
       "      <th>MHC A</th>\n",
       "      <th>Epitope</th>\n",
       "      <th>Epitope Species</th>\n",
       "      <th>Feature_0</th>\n",
       "      <th>Feature_1</th>\n",
       "      <th>...</th>\n",
       "      <th>Feature_10</th>\n",
       "      <th>Feature_11</th>\n",
       "      <th>Feature_12</th>\n",
       "      <th>Feature_13</th>\n",
       "      <th>Feature_14</th>\n",
       "      <th>Feature_15</th>\n",
       "      <th>Feature_16</th>\n",
       "      <th>Feature_17</th>\n",
       "      <th>Feature_18</th>\n",
       "      <th>Feature_19</th>\n",
       "    </tr>\n",
       "  </thead>\n",
       "  <tbody>\n",
       "    <tr>\n",
       "      <th>0</th>\n",
       "      <td>TRA</td>\n",
       "      <td>IVVRSSNTGKLI00000000000000000000000000</td>\n",
       "      <td>TRAV26-1*01</td>\n",
       "      <td>TRAJ37*01</td>\n",
       "      <td>HomoSapiens</td>\n",
       "      <td>HLA-E*01:01, HLA-E*01:03</td>\n",
       "      <td>VMAPRTLIL</td>\n",
       "      <td>Homo sapiens (human)</td>\n",
       "      <td>0.000</td>\n",
       "      <td>2.632</td>\n",
       "      <td>...</td>\n",
       "      <td>2.632</td>\n",
       "      <td>2.632</td>\n",
       "      <td>0.0</td>\n",
       "      <td>0.000</td>\n",
       "      <td>0.000</td>\n",
       "      <td>5.263</td>\n",
       "      <td>2.632</td>\n",
       "      <td>0.0</td>\n",
       "      <td>0.000</td>\n",
       "      <td>5.263</td>\n",
       "    </tr>\n",
       "    <tr>\n",
       "      <th>1</th>\n",
       "      <td>TRA</td>\n",
       "      <td>CAVRPTSGGSYIPTF00000000000000000000000</td>\n",
       "      <td>TRAV21*01</td>\n",
       "      <td>TRAJ6*01</td>\n",
       "      <td>HomoSapiens</td>\n",
       "      <td>HLA-A*02:01</td>\n",
       "      <td>SLLMWITQC</td>\n",
       "      <td>Homo sapiens (human)</td>\n",
       "      <td>2.632</td>\n",
       "      <td>2.632</td>\n",
       "      <td>...</td>\n",
       "      <td>0.000</td>\n",
       "      <td>0.000</td>\n",
       "      <td>0.0</td>\n",
       "      <td>2.632</td>\n",
       "      <td>5.263</td>\n",
       "      <td>5.263</td>\n",
       "      <td>5.263</td>\n",
       "      <td>0.0</td>\n",
       "      <td>2.632</td>\n",
       "      <td>2.632</td>\n",
       "    </tr>\n",
       "    <tr>\n",
       "      <th>2</th>\n",
       "      <td>TRA</td>\n",
       "      <td>TVYGGATNKLI000000000000000000000000000</td>\n",
       "      <td>TRAV26-2*01</td>\n",
       "      <td>TRAJ32*01</td>\n",
       "      <td>HomoSapiens</td>\n",
       "      <td>HLA-DRB1*04:01</td>\n",
       "      <td>LSRFSWGAEGQRPGFGYGG</td>\n",
       "      <td>Homo sapiens (human)</td>\n",
       "      <td>2.632</td>\n",
       "      <td>0.000</td>\n",
       "      <td>...</td>\n",
       "      <td>2.632</td>\n",
       "      <td>2.632</td>\n",
       "      <td>0.0</td>\n",
       "      <td>0.000</td>\n",
       "      <td>0.000</td>\n",
       "      <td>0.000</td>\n",
       "      <td>5.263</td>\n",
       "      <td>0.0</td>\n",
       "      <td>2.632</td>\n",
       "      <td>2.632</td>\n",
       "    </tr>\n",
       "    <tr>\n",
       "      <th>3</th>\n",
       "      <td>TRA</td>\n",
       "      <td>TVYGGATNKLI000000000000000000000000000</td>\n",
       "      <td>TRAV26-2*01</td>\n",
       "      <td>TRAJ32*01</td>\n",
       "      <td>HomoSapiens</td>\n",
       "      <td>HLA-DRB1*04:01</td>\n",
       "      <td>LSRFSWGAEGQRPGFGYGG</td>\n",
       "      <td>Homo sapiens (human)</td>\n",
       "      <td>2.632</td>\n",
       "      <td>0.000</td>\n",
       "      <td>...</td>\n",
       "      <td>2.632</td>\n",
       "      <td>2.632</td>\n",
       "      <td>0.0</td>\n",
       "      <td>0.000</td>\n",
       "      <td>0.000</td>\n",
       "      <td>0.000</td>\n",
       "      <td>5.263</td>\n",
       "      <td>0.0</td>\n",
       "      <td>2.632</td>\n",
       "      <td>2.632</td>\n",
       "    </tr>\n",
       "    <tr>\n",
       "      <th>4</th>\n",
       "      <td>TRA</td>\n",
       "      <td>AVRVTGGFKTI000000000000000000000000000</td>\n",
       "      <td>TCRAV1-2</td>\n",
       "      <td>TCRVJ9</td>\n",
       "      <td>HomoSapiens</td>\n",
       "      <td>human CD1b</td>\n",
       "      <td>6-deoxy-D-glucos-6-yl corynomycolate</td>\n",
       "      <td>Rhodococcus equi</td>\n",
       "      <td>2.632</td>\n",
       "      <td>2.632</td>\n",
       "      <td>...</td>\n",
       "      <td>0.000</td>\n",
       "      <td>2.632</td>\n",
       "      <td>0.0</td>\n",
       "      <td>2.632</td>\n",
       "      <td>0.000</td>\n",
       "      <td>0.000</td>\n",
       "      <td>5.263</td>\n",
       "      <td>0.0</td>\n",
       "      <td>0.000</td>\n",
       "      <td>5.263</td>\n",
       "    </tr>\n",
       "  </tbody>\n",
       "</table>\n",
       "<p>5 rows × 28 columns</p>\n",
       "</div>"
      ],
      "text/plain": [
       "  Gene                                    CDR3            V          J  \\\n",
       "0  TRA  IVVRSSNTGKLI00000000000000000000000000  TRAV26-1*01  TRAJ37*01   \n",
       "1  TRA  CAVRPTSGGSYIPTF00000000000000000000000    TRAV21*01   TRAJ6*01   \n",
       "2  TRA  TVYGGATNKLI000000000000000000000000000  TRAV26-2*01  TRAJ32*01   \n",
       "3  TRA  TVYGGATNKLI000000000000000000000000000  TRAV26-2*01  TRAJ32*01   \n",
       "4  TRA  AVRVTGGFKTI000000000000000000000000000     TCRAV1-2     TCRVJ9   \n",
       "\n",
       "       Species                     MHC A  \\\n",
       "0  HomoSapiens  HLA-E*01:01, HLA-E*01:03   \n",
       "1  HomoSapiens               HLA-A*02:01   \n",
       "2  HomoSapiens            HLA-DRB1*04:01   \n",
       "3  HomoSapiens            HLA-DRB1*04:01   \n",
       "4  HomoSapiens                human CD1b   \n",
       "\n",
       "                                Epitope       Epitope Species  Feature_0  \\\n",
       "0                             VMAPRTLIL  Homo sapiens (human)      0.000   \n",
       "1                             SLLMWITQC  Homo sapiens (human)      2.632   \n",
       "2                   LSRFSWGAEGQRPGFGYGG  Homo sapiens (human)      2.632   \n",
       "3                   LSRFSWGAEGQRPGFGYGG  Homo sapiens (human)      2.632   \n",
       "4  6-deoxy-D-glucos-6-yl corynomycolate      Rhodococcus equi      2.632   \n",
       "\n",
       "   Feature_1  ...  Feature_10  Feature_11  Feature_12  Feature_13  Feature_14  \\\n",
       "0      2.632  ...       2.632       2.632         0.0       0.000       0.000   \n",
       "1      2.632  ...       0.000       0.000         0.0       2.632       5.263   \n",
       "2      0.000  ...       2.632       2.632         0.0       0.000       0.000   \n",
       "3      0.000  ...       2.632       2.632         0.0       0.000       0.000   \n",
       "4      2.632  ...       0.000       2.632         0.0       2.632       0.000   \n",
       "\n",
       "   Feature_15  Feature_16  Feature_17  Feature_18  Feature_19  \n",
       "0       5.263       2.632         0.0       0.000       5.263  \n",
       "1       5.263       5.263         0.0       2.632       2.632  \n",
       "2       0.000       5.263         0.0       2.632       2.632  \n",
       "3       0.000       5.263         0.0       2.632       2.632  \n",
       "4       0.000       5.263         0.0       0.000       5.263  \n",
       "\n",
       "[5 rows x 28 columns]"
      ]
     },
     "execution_count": 3,
     "metadata": {},
     "output_type": "execute_result"
    }
   ],
   "source": [
    "AAC = AAC.drop('Unnamed: 0', axis=1)\n",
    "AAC.head()"
   ]
  },
  {
   "cell_type": "code",
   "execution_count": 4,
   "id": "28c04e47-7499-4f08-aebe-ca97aeb9be82",
   "metadata": {
    "execution": {
     "iopub.execute_input": "2022-10-15T13:19:59.385368Z",
     "iopub.status.busy": "2022-10-15T13:19:59.385122Z",
     "iopub.status.idle": "2022-10-15T13:19:59.432650Z",
     "shell.execute_reply": "2022-10-15T13:19:59.431842Z"
    }
   },
   "outputs": [],
   "source": [
    "tcr_human = AAC[AAC[\"Gene\"]==\"TRB\"]"
   ]
  },
  {
   "cell_type": "code",
   "execution_count": 5,
   "id": "8d6da0c5-cc21-4116-955d-e833559db4b3",
   "metadata": {
    "ExecuteTime": {
     "end_time": "2022-03-14T07:54:35.165398Z",
     "start_time": "2022-03-14T07:54:34.994359Z"
    },
    "execution": {
     "iopub.execute_input": "2022-10-15T13:19:59.437440Z",
     "iopub.status.busy": "2022-10-15T13:19:59.437203Z",
     "iopub.status.idle": "2022-10-15T13:19:59.443242Z",
     "shell.execute_reply": "2022-10-15T13:19:59.442604Z"
    },
    "tags": []
   },
   "outputs": [],
   "source": [
    "def remove_symbol(data):\n",
    "  data_temp1 = []\n",
    "  data_temp2 = []\n",
    "  \n",
    "  data = data.reset_index(drop=True)  \n",
    "    \n",
    "  for i in range(data.shape[0]):    \n",
    "    temp = str(data[i]).replace(\"*\",\"\")    \n",
    "    data_temp1.append(temp)\n",
    "  \n",
    "  data_temp1 = np.asarray(data_temp1)\n",
    "\n",
    "  for i in range(data_temp1.shape[0]):\n",
    "    temp = data_temp1[i].replace(\"-\",\"\")\n",
    "    data_temp2.append(temp)\n",
    "  \n",
    "  data_temp2 = np.asarray(data_temp2)\n",
    "  return data_temp2"
   ]
  },
  {
   "cell_type": "code",
   "execution_count": null,
   "id": "faa5e583-a506-4e76-8f68-41dba5be46a1",
   "metadata": {},
   "outputs": [],
   "source": []
  },
  {
   "cell_type": "code",
   "execution_count": 6,
   "id": "f05a8ce4-55f2-42b3-951b-388a277cf15f",
   "metadata": {
    "ExecuteTime": {
     "end_time": "2022-03-14T07:54:37.460512Z",
     "start_time": "2022-03-14T07:54:36.960333Z"
    },
    "execution": {
     "iopub.execute_input": "2022-10-15T13:19:59.448054Z",
     "iopub.status.busy": "2022-10-15T13:19:59.447749Z",
     "iopub.status.idle": "2022-10-15T13:20:01.298949Z",
     "shell.execute_reply": "2022-10-15T13:20:01.298125Z"
    },
    "tags": []
   },
   "outputs": [
    {
     "name": "stdout",
     "output_type": "stream",
     "text": [
      "(201848, 1) (201848, 1)\n"
     ]
    },
    {
     "name": "stderr",
     "output_type": "stream",
     "text": [
      "/tmp/ipykernel_30196/631406096.py:19: SettingWithCopyWarning: \n",
      "A value is trying to be set on a copy of a slice from a DataFrame.\n",
      "Try using .loc[row_indexer,col_indexer] = value instead\n",
      "\n",
      "See the caveats in the documentation: https://pandas.pydata.org/pandas-docs/stable/user_guide/indexing.html#returning-a-view-versus-a-copy\n",
      "  tcr_human['V']=V\n",
      "/tmp/ipykernel_30196/631406096.py:20: SettingWithCopyWarning: \n",
      "A value is trying to be set on a copy of a slice from a DataFrame.\n",
      "Try using .loc[row_indexer,col_indexer] = value instead\n",
      "\n",
      "See the caveats in the documentation: https://pandas.pydata.org/pandas-docs/stable/user_guide/indexing.html#returning-a-view-versus-a-copy\n",
      "  tcr_human['J']=J\n"
     ]
    }
   ],
   "source": [
    "V = remove_symbol(tcr_human['V'])\n",
    "J = remove_symbol(tcr_human['J'])\n",
    "\n",
    "from sklearn import preprocessing\n",
    "vle = preprocessing.LabelEncoder()\n",
    "vle.fit(V)\n",
    "\n",
    "V = vle.transform(V)\n",
    "V = V.reshape(-1, 1)\n",
    "\n",
    "from sklearn import preprocessing\n",
    "jle = preprocessing.LabelEncoder()\n",
    "jle.fit(J)\n",
    "\n",
    "J = jle.transform(J)\n",
    "J = J.reshape(-1, 1)\n",
    "print(V.shape, J.shape)\n",
    "\n",
    "tcr_human['V']=V\n",
    "tcr_human['J']=J"
   ]
  },
  {
   "cell_type": "code",
   "execution_count": null,
   "id": "94cf4dbb-bc4f-4330-9ad6-2215b80604cb",
   "metadata": {},
   "outputs": [],
   "source": []
  },
  {
   "cell_type": "code",
   "execution_count": 7,
   "id": "acb5a20d-1255-4471-8bb6-fb38e7ba54f7",
   "metadata": {
    "ExecuteTime": {
     "end_time": "2022-03-14T07:54:38.441766Z",
     "start_time": "2022-03-14T07:54:38.272667Z"
    },
    "execution": {
     "iopub.execute_input": "2022-10-15T13:20:01.321551Z",
     "iopub.status.busy": "2022-10-15T13:20:01.321320Z",
     "iopub.status.idle": "2022-10-15T13:20:01.325772Z",
     "shell.execute_reply": "2022-10-15T13:20:01.324960Z"
    },
    "tags": []
   },
   "outputs": [],
   "source": [
    "# tcr_human.head()"
   ]
  },
  {
   "cell_type": "code",
   "execution_count": null,
   "id": "f25e03af-4e87-4072-8d0e-6bde5a108a79",
   "metadata": {},
   "outputs": [],
   "source": []
  },
  {
   "cell_type": "code",
   "execution_count": 8,
   "id": "e465ca8a-c086-4843-b80d-af122a0deb29",
   "metadata": {
    "ExecuteTime": {
     "end_time": "2022-03-14T07:54:39.421485Z",
     "start_time": "2022-03-14T07:54:39.252609Z"
    },
    "execution": {
     "iopub.execute_input": "2022-10-15T13:20:01.331041Z",
     "iopub.status.busy": "2022-10-15T13:20:01.330746Z",
     "iopub.status.idle": "2022-10-15T13:20:01.335574Z",
     "shell.execute_reply": "2022-10-15T13:20:01.334637Z"
    },
    "tags": []
   },
   "outputs": [],
   "source": [
    "# from sklearn import preprocessing\n",
    "# ele = preprocessing.LabelEncoder()\n",
    "# ele.fit(tcr_human['Epitope'])\n",
    "\n",
    "# target = ele.transform(tcr_human['Epitope'])\n",
    "# target = target.reshape(-1, 1)\n",
    "\n",
    "# tcr_human['Epitope'] = target"
   ]
  },
  {
   "cell_type": "code",
   "execution_count": null,
   "id": "94444496-3195-4082-94cc-8fac1ff7515b",
   "metadata": {},
   "outputs": [],
   "source": []
  },
  {
   "cell_type": "code",
   "execution_count": 9,
   "id": "fc76e890-6475-42b5-b570-2168c8e0aabf",
   "metadata": {
    "ExecuteTime": {
     "end_time": "2022-03-14T07:54:40.405096Z",
     "start_time": "2022-03-14T07:54:40.231496Z"
    },
    "execution": {
     "iopub.execute_input": "2022-10-15T13:20:01.339875Z",
     "iopub.status.busy": "2022-10-15T13:20:01.339397Z",
     "iopub.status.idle": "2022-10-15T13:20:01.365983Z",
     "shell.execute_reply": "2022-10-15T13:20:01.365051Z"
    },
    "tags": []
   },
   "outputs": [],
   "source": [
    "tcr_human = tcr_human.reset_index(drop=True)\n",
    "# tcr_human.head()"
   ]
  },
  {
   "cell_type": "code",
   "execution_count": null,
   "id": "0299717a-def2-4d87-b589-321e12a0af62",
   "metadata": {},
   "outputs": [],
   "source": []
  },
  {
   "cell_type": "code",
   "execution_count": 10,
   "id": "6fcc475f-3c2f-4ccb-b95d-23e163289e31",
   "metadata": {
    "ExecuteTime": {
     "end_time": "2022-03-14T07:54:41.384588Z",
     "start_time": "2022-03-14T07:54:41.213017Z"
    },
    "execution": {
     "iopub.execute_input": "2022-10-15T13:20:01.371092Z",
     "iopub.status.busy": "2022-10-15T13:20:01.370860Z",
     "iopub.status.idle": "2022-10-15T13:20:01.398831Z",
     "shell.execute_reply": "2022-10-15T13:20:01.398138Z"
    },
    "tags": []
   },
   "outputs": [],
   "source": [
    "tcr = pd.concat([tcr_human.loc[:,\"Feature_0\":tcr_human.columns[-1]],tcr_human[['V','J','Epitope']]], axis = 1)\n",
    "# tcr.head()"
   ]
  },
  {
   "cell_type": "code",
   "execution_count": null,
   "id": "3f819159-0e9a-4e64-84b4-deb80ae6db2d",
   "metadata": {},
   "outputs": [],
   "source": []
  },
  {
   "cell_type": "code",
   "execution_count": 11,
   "id": "93230fb6-4112-49e7-a560-ed9b4511962b",
   "metadata": {
    "ExecuteTime": {
     "end_time": "2022-03-14T07:54:42.336541Z",
     "start_time": "2022-03-14T07:54:42.164538Z"
    },
    "execution": {
     "iopub.execute_input": "2022-10-15T13:20:01.404177Z",
     "iopub.status.busy": "2022-10-15T13:20:01.403951Z",
     "iopub.status.idle": "2022-10-15T13:20:01.416190Z",
     "shell.execute_reply": "2022-10-15T13:20:01.415391Z"
    },
    "tags": []
   },
   "outputs": [],
   "source": [
    "X = tcr.loc[:,\"Feature_0\":\"J\"]\n",
    "y = tcr[\"Epitope\"]"
   ]
  },
  {
   "cell_type": "code",
   "execution_count": 12,
   "id": "a14d75a0-2c5d-4947-b762-0cd221722b87",
   "metadata": {
    "ExecuteTime": {
     "end_time": "2022-03-14T07:54:43.400280Z",
     "start_time": "2022-03-14T07:54:43.152075Z"
    },
    "execution": {
     "iopub.execute_input": "2022-10-15T13:20:01.421433Z",
     "iopub.status.busy": "2022-10-15T13:20:01.421188Z",
     "iopub.status.idle": "2022-10-15T13:20:02.543775Z",
     "shell.execute_reply": "2022-10-15T13:20:02.542710Z"
    },
    "tags": []
   },
   "outputs": [],
   "source": [
    "from sklearn.decomposition import PCA\n",
    "transformer = PCA(n_components=10)\n",
    "X = transformer.fit_transform(X)"
   ]
  },
  {
   "cell_type": "code",
   "execution_count": 13,
   "id": "6a2123f4-a47a-4a83-86f5-26393e9f7034",
   "metadata": {
    "execution": {
     "iopub.execute_input": "2022-10-15T13:20:02.550330Z",
     "iopub.status.busy": "2022-10-15T13:20:02.548419Z",
     "iopub.status.idle": "2022-10-15T13:20:02.555592Z",
     "shell.execute_reply": "2022-10-15T13:20:02.554693Z"
    }
   },
   "outputs": [],
   "source": [
    "# tcr_human = tcr_human[tcr_human['Epitope'].isin(['NLVPMVATV', 'GILGFVFTL', 'GLCTLVAML'])]"
   ]
  },
  {
   "cell_type": "code",
   "execution_count": 14,
   "id": "f892eef4-7b18-438f-a26b-5208fa7f71cb",
   "metadata": {
    "ExecuteTime": {
     "end_time": "2022-03-14T07:54:46.305188Z",
     "start_time": "2022-03-14T07:54:46.104811Z"
    },
    "execution": {
     "iopub.execute_input": "2022-10-15T13:20:02.562528Z",
     "iopub.status.busy": "2022-10-15T13:20:02.560645Z",
     "iopub.status.idle": "2022-10-15T13:20:02.600457Z",
     "shell.execute_reply": "2022-10-15T13:20:02.599513Z"
    },
    "tags": []
   },
   "outputs": [
    {
     "data": {
      "text/plain": [
       "GILGFVFTL    12564\n",
       "Name: Epitope, dtype: int64"
      ]
     },
     "execution_count": 14,
     "metadata": {},
     "output_type": "execute_result"
    }
   ],
   "source": [
    "#Show the highest value\n",
    "epitope_counts = y[y == 'GILGFVFTL'].value_counts()\n",
    "epitope_counts[:1]"
   ]
  },
  {
   "cell_type": "code",
   "execution_count": null,
   "id": "5862ed29-2cec-4ed6-8863-c12945d30426",
   "metadata": {},
   "outputs": [],
   "source": []
  },
  {
   "cell_type": "code",
   "execution_count": 15,
   "id": "13cdee55-49bc-42e1-9ca7-d72fbe2c2287",
   "metadata": {
    "ExecuteTime": {
     "end_time": "2022-03-14T07:54:47.241247Z",
     "start_time": "2022-03-14T07:54:47.086602Z"
    },
    "execution": {
     "iopub.execute_input": "2022-10-15T13:20:02.604914Z",
     "iopub.status.busy": "2022-10-15T13:20:02.604558Z",
     "iopub.status.idle": "2022-10-15T13:20:02.609438Z",
     "shell.execute_reply": "2022-10-15T13:20:02.608579Z"
    },
    "tags": []
   },
   "outputs": [],
   "source": [
    "target_class = epitope_counts[:1].index"
   ]
  },
  {
   "cell_type": "code",
   "execution_count": 16,
   "id": "0a2950a6-5456-4ea2-a022-9577397902eb",
   "metadata": {
    "ExecuteTime": {
     "end_time": "2022-03-14T07:54:48.191321Z",
     "start_time": "2022-03-14T07:54:48.022721Z"
    },
    "execution": {
     "iopub.execute_input": "2022-10-15T13:20:02.613544Z",
     "iopub.status.busy": "2022-10-15T13:20:02.613193Z",
     "iopub.status.idle": "2022-10-15T13:20:02.618928Z",
     "shell.execute_reply": "2022-10-15T13:20:02.618337Z"
    },
    "tags": []
   },
   "outputs": [
    {
     "data": {
      "text/plain": [
       "Index(['GILGFVFTL'], dtype='object')"
      ]
     },
     "execution_count": 16,
     "metadata": {},
     "output_type": "execute_result"
    }
   ],
   "source": [
    "target_class"
   ]
  },
  {
   "cell_type": "code",
   "execution_count": null,
   "id": "7c2c4ff0-083e-46f9-9e0e-30ee673a03d7",
   "metadata": {},
   "outputs": [],
   "source": []
  },
  {
   "cell_type": "code",
   "execution_count": 17,
   "id": "b73a6ae3-89df-4ed7-89a7-2d0db7311f7b",
   "metadata": {
    "ExecuteTime": {
     "end_time": "2022-03-14T07:54:49.115832Z",
     "start_time": "2022-03-14T07:54:48.957000Z"
    },
    "execution": {
     "iopub.execute_input": "2022-10-15T13:20:02.622003Z",
     "iopub.status.busy": "2022-10-15T13:20:02.621729Z",
     "iopub.status.idle": "2022-10-15T13:20:02.628122Z",
     "shell.execute_reply": "2022-10-15T13:20:02.627389Z"
    },
    "tags": []
   },
   "outputs": [],
   "source": [
    "def convert_target(target_raw, val):\n",
    "    result = target_raw.copy()\n",
    "    \n",
    "    for i in range(result.shape[0]):\n",
    "        if result[i] != val:\n",
    "            result[i] = 0\n",
    "\n",
    "        if result[i] == val:\n",
    "            result[i] = 1\n",
    "    \n",
    "    result1 = pd.concat((pd.DataFrame(X),pd.DataFrame(result)), axis=1)\n",
    "    \n",
    "    r1 = result1[result1['Epitope']==1].sample(n = result1[result1['Epitope']==1].shape[0], random_state=np.random.RandomState(100))\n",
    "    r2 = result1[result1['Epitope']==0].sample(n = result1[result1['Epitope']==1].shape[0], random_state=np.random.RandomState(100))\n",
    "    \n",
    "    result2 = np.concatenate((r1,r2), axis=0)\n",
    "    \n",
    "    return result2"
   ]
  },
  {
   "cell_type": "code",
   "execution_count": 18,
   "id": "8ba73e71-7ead-43c2-be0e-8444af3fe252",
   "metadata": {
    "execution": {
     "iopub.execute_input": "2022-10-15T13:20:02.631252Z",
     "iopub.status.busy": "2022-10-15T13:20:02.631028Z",
     "iopub.status.idle": "2022-10-15T13:20:04.521529Z",
     "shell.execute_reply": "2022-10-15T13:20:04.520753Z"
    }
   },
   "outputs": [
    {
     "data": {
      "application/vnd.jupyter.widget-view+json": {
       "model_id": "e55b9906decc43fb80e15aece2ca7dcf",
       "version_major": 2,
       "version_minor": 0
      },
      "text/plain": [
       "target:   0%|          | 0/1 [00:00<?, ?it/s]"
      ]
     },
     "metadata": {},
     "output_type": "display_data"
    }
   ],
   "source": [
    "for species in tqdm(target_class,'target'):\n",
    "    label = convert_target(y,species)\n",
    "\n",
    "\n",
    "X = label[:,:-1]\n",
    "y = label[:,-1:]"
   ]
  },
  {
   "cell_type": "code",
   "execution_count": 19,
   "id": "cb9d4190-2040-43e7-9234-abfdd73bd4f9",
   "metadata": {
    "execution": {
     "iopub.execute_input": "2022-10-15T13:20:04.529339Z",
     "iopub.status.busy": "2022-10-15T13:20:04.529106Z",
     "iopub.status.idle": "2022-10-15T13:20:04.534576Z",
     "shell.execute_reply": "2022-10-15T13:20:04.534015Z"
    }
   },
   "outputs": [
    {
     "data": {
      "text/plain": [
       "array([[-94.5662283289801, 4.949137299487002, -0.8321516686911502, ...,\n",
       "        -1.329941362567876, -1.406621720035818, 1],\n",
       "       [60.89143054935129, -7.977522602837411, -2.0053807000049084, ...,\n",
       "        1.8418915195761332, 1.1139080832713504, 1],\n",
       "       [139.54102141418363, 8.418346170504394, 1.5002622651770918, ...,\n",
       "        2.3454404551820716, 0.2855702659232837, 1],\n",
       "       ...,\n",
       "       [-170.1459916088132, -10.849915903226597, -0.7941191172010789,\n",
       "        ..., 0.175504203791861, 2.917990795008098, 0],\n",
       "       [-150.5280542720274, 19.88032409715977, 1.94260708651494, ...,\n",
       "        -4.182748249524103, -1.0991153958538522, 0],\n",
       "       [-92.89125004904176, 1.0279406499664874, 1.825573311972839, ...,\n",
       "        -1.364110215561501, -0.2998978174311057, 0]], dtype=object)"
      ]
     },
     "execution_count": 19,
     "metadata": {},
     "output_type": "execute_result"
    }
   ],
   "source": [
    "label"
   ]
  },
  {
   "cell_type": "code",
   "execution_count": 20,
   "id": "bf5bbedc-ccb7-4d16-a2f7-f6b65d505100",
   "metadata": {
    "execution": {
     "iopub.execute_input": "2022-10-15T13:20:04.538474Z",
     "iopub.status.busy": "2022-10-15T13:20:04.538154Z",
     "iopub.status.idle": "2022-10-15T13:20:06.515545Z",
     "shell.execute_reply": "2022-10-15T13:20:06.514652Z"
    }
   },
   "outputs": [],
   "source": [
    "#Deep Learning\n",
    "\n",
    "import numpy as np\n",
    "import tensorflow as tf\n",
    "import keras\n",
    "from tensorflow.keras import Input\n",
    "from tensorflow.keras.layers import Dense, LSTM, Conv2D, MaxPooling2D, Activation, Flatten, GlobalAveragePooling1D,concatenate,Conv1D, Dropout, MaxPool1D, Flatten, AveragePooling1D, BatchNormalization, GlobalMaxPool1D, LeakyReLU, MaxPooling1D, Bidirectional\n",
    "from tensorflow.keras.models import load_model, Model, Sequential\n",
    "from keras.callbacks import ModelCheckpoint, EarlyStopping\n",
    "from livelossplot import PlotLossesKeras\n",
    "from attention import Attention\n",
    "from tensorflow.keras import regularizers\n",
    "from sklearn.model_selection import KFold \n",
    "\n",
    "\n",
    "import os"
   ]
  },
  {
   "cell_type": "code",
   "execution_count": 21,
   "id": "eba27ec0-2211-4683-90cd-1607054ba7f4",
   "metadata": {
    "execution": {
     "iopub.execute_input": "2022-10-15T13:20:06.520970Z",
     "iopub.status.busy": "2022-10-15T13:20:06.520600Z",
     "iopub.status.idle": "2022-10-15T13:20:07.197266Z",
     "shell.execute_reply": "2022-10-15T13:20:07.196628Z"
    }
   },
   "outputs": [
    {
     "name": "stdout",
     "output_type": "stream",
     "text": [
      "[PhysicalDevice(name='/physical_device:GPU:0', device_type='GPU')]\n",
      "tf.keras code in this scope will run on GPU\n"
     ]
    },
    {
     "name": "stderr",
     "output_type": "stream",
     "text": [
      "2022-10-15 21:20:06.599120: I tensorflow/core/platform/cpu_feature_guard.cc:151] This TensorFlow binary is optimized with oneAPI Deep Neural Network Library (oneDNN) to use the following CPU instructions in performance-critical operations:  AVX2 FMA\n",
      "To enable them in other operations, rebuild TensorFlow with the appropriate compiler flags.\n",
      "2022-10-15 21:20:07.191332: I tensorflow/core/common_runtime/gpu/gpu_device.cc:1525] Created device /job:localhost/replica:0/task:0/device:GPU:0 with 10342 MB memory:  -> device: 0, name: GeForce GTX 1080 Ti, pci bus id: 0000:02:00.0, compute capability: 6.1\n"
     ]
    }
   ],
   "source": [
    "gpus = tf.config.experimental.list_physical_devices('GPU')\n",
    "print(gpus)\n",
    "for gpu in gpus:\n",
    "    tf.config.experimental.set_memory_growth(gpu, True)\n",
    "\n",
    "if gpus:\n",
    "    tf.config.set_visible_devices(gpus[0], 'GPU')\n",
    "\n",
    "with tf.device(\"gpu:0\"):\n",
    "   print(\"tf.keras code in this scope will run on GPU\")"
   ]
  },
  {
   "cell_type": "code",
   "execution_count": 22,
   "id": "9fe92090-bb93-4695-907e-c2df3f732c71",
   "metadata": {
    "execution": {
     "iopub.execute_input": "2022-10-15T13:20:07.205129Z",
     "iopub.status.busy": "2022-10-15T13:20:07.204897Z",
     "iopub.status.idle": "2022-10-15T13:20:07.224299Z",
     "shell.execute_reply": "2022-10-15T13:20:07.223623Z"
    }
   },
   "outputs": [
    {
     "name": "stdout",
     "output_type": "stream",
     "text": [
      "2\n"
     ]
    }
   ],
   "source": [
    "n_classes = len(np.unique(y))\n",
    "print(n_classes)"
   ]
  },
  {
   "cell_type": "code",
   "execution_count": 23,
   "id": "ac8bd934-3619-4523-b73a-358c786b2723",
   "metadata": {
    "execution": {
     "iopub.execute_input": "2022-10-15T13:20:07.229927Z",
     "iopub.status.busy": "2022-10-15T13:20:07.229700Z",
     "iopub.status.idle": "2022-10-15T13:20:07.249346Z",
     "shell.execute_reply": "2022-10-15T13:20:07.248573Z"
    }
   },
   "outputs": [
    {
     "data": {
      "text/plain": [
       "(array([0, 1], dtype=object), array([12564, 12564]))"
      ]
     },
     "execution_count": 23,
     "metadata": {},
     "output_type": "execute_result"
    }
   ],
   "source": [
    "np.unique(y, return_counts=True)"
   ]
  },
  {
   "cell_type": "code",
   "execution_count": 24,
   "id": "821098a8-0381-4f7b-99cc-b4caa455254d",
   "metadata": {
    "execution": {
     "iopub.execute_input": "2022-10-15T13:20:07.253859Z",
     "iopub.status.busy": "2022-10-15T13:20:07.253534Z",
     "iopub.status.idle": "2022-10-15T13:20:07.279255Z",
     "shell.execute_reply": "2022-10-15T13:20:07.278587Z"
    }
   },
   "outputs": [
    {
     "name": "stdout",
     "output_type": "stream",
     "text": [
      "2\n"
     ]
    }
   ],
   "source": [
    "n_classes = len(np.unique(y))\n",
    "print(n_classes)\n",
    "\n",
    "# X = X_new\n",
    "y = y.reshape(-1,1)\n",
    "\n",
    "from sklearn.preprocessing import OneHotEncoder\n",
    "enc = OneHotEncoder(handle_unknown='ignore')\n",
    "enc.fit(y)\n",
    "y = enc.transform(y).toarray()"
   ]
  },
  {
   "cell_type": "code",
   "execution_count": null,
   "id": "54a20151-3835-4380-a6cf-6081dfad59cc",
   "metadata": {},
   "outputs": [],
   "source": []
  },
  {
   "cell_type": "code",
   "execution_count": 25,
   "id": "f9d9a3cf-92ec-414f-ac4a-66c5e55e04b6",
   "metadata": {
    "execution": {
     "iopub.execute_input": "2022-10-15T13:20:07.284525Z",
     "iopub.status.busy": "2022-10-15T13:20:07.284264Z",
     "iopub.status.idle": "2022-10-15T13:20:07.289586Z",
     "shell.execute_reply": "2022-10-15T13:20:07.288911Z"
    }
   },
   "outputs": [],
   "source": [
    "kf = KFold(n_splits=5, shuffle=True)\n",
    "kf.get_n_splits(X,y)\n",
    "\n",
    "precision_val = []\n",
    "recall_val = []\n",
    "specificity_val = []\n",
    "sensitivity_val = []\n",
    "f1score_val = []\n",
    "accuracy_val = []\n",
    "training_time = []\n",
    "testing_time = []\n",
    "testing_size = []\n",
    "auc_val = []\n",
    "\n",
    "randomIter = kf.split(X)"
   ]
  },
  {
   "cell_type": "code",
   "execution_count": 26,
   "id": "1d7c23be-332e-437d-a6ff-83fdeeb9cdfa",
   "metadata": {
    "execution": {
     "iopub.execute_input": "2022-10-15T13:20:07.293147Z",
     "iopub.status.busy": "2022-10-15T13:20:07.292850Z",
     "iopub.status.idle": "2022-10-15T13:20:07.324146Z",
     "shell.execute_reply": "2022-10-15T13:20:07.323459Z"
    }
   },
   "outputs": [
    {
     "name": "stdout",
     "output_type": "stream",
     "text": [
      "(20102, 10, 1) (5026, 10, 1)\n"
     ]
    }
   ],
   "source": [
    "train_idx, test_idx = next(randomIter)\n",
    "X_train, X_test = X[train_idx], X[test_idx]\n",
    "y_train, y_test = y[train_idx], y[test_idx]\n",
    "\n",
    "        \n",
    "from sklearn.preprocessing import StandardScaler\n",
    "scaler = StandardScaler()\n",
    "scaler.fit(X_train)\n",
    "X_train = scaler.transform(X_train)\n",
    "X_test = scaler.transform(X_test)\n",
    "\n",
    "X_train = X_train.reshape(X_train.shape[0],X_train.shape[1],1)\n",
    "X_test = X_test.reshape(X_test.shape[0],X_test.shape[1],1)\n",
    "\n",
    "print(X_train.shape, X_test.shape)"
   ]
  },
  {
   "cell_type": "code",
   "execution_count": null,
   "id": "0cff918e-9a40-4693-8444-a8af4317d9d2",
   "metadata": {},
   "outputs": [],
   "source": []
  },
  {
   "cell_type": "code",
   "execution_count": null,
   "id": "b684eb5f-2fd6-4992-949e-45cd718eb2d3",
   "metadata": {},
   "outputs": [],
   "source": []
  },
  {
   "cell_type": "code",
   "execution_count": 27,
   "id": "c97db4df-6372-4595-88a1-e9f55f02fcf0",
   "metadata": {
    "execution": {
     "iopub.execute_input": "2022-10-15T13:20:07.328731Z",
     "iopub.status.busy": "2022-10-15T13:20:07.328504Z",
     "iopub.status.idle": "2022-10-15T13:20:07.336346Z",
     "shell.execute_reply": "2022-10-15T13:20:07.335668Z"
    }
   },
   "outputs": [],
   "source": [
    "from tensorflow.keras import layers\n",
    "\n",
    "\n",
    "def transformer_encoder(inputs, head_size, num_heads, ff_dim, dropout=0):\n",
    "    # Normalization and Attention\n",
    "    x = layers.MultiHeadAttention(\n",
    "        key_dim=head_size, num_heads=num_heads, dropout=dropout\n",
    "    )(inputs, inputs)\n",
    "    x = layers.Dropout(dropout)(x)\n",
    "    x = layers.LayerNormalization(epsilon=1e-6)(x)\n",
    "    res = x + inputs\n",
    "\n",
    "    # Feed Forward Part\n",
    "    x = layers.Conv1D(filters=ff_dim, kernel_size=1, activation=\"relu\")(res)\n",
    "    x = layers.Dropout(dropout)(x)\n",
    "    x = layers.Conv1D(filters=inputs.shape[-1], kernel_size=1)(x)\n",
    "    x = layers.LayerNormalization(epsilon=1e-6)(x)\n",
    "    return x + res\n",
    "\n",
    "def build_model(\n",
    "    input_tensor,\n",
    "    head_size,\n",
    "    num_heads,\n",
    "    ff_dim,\n",
    "    num_transformer_blocks,\n",
    "    mlp_units,\n",
    "    dropout=0,\n",
    "    mlp_dropout=0,\n",
    "):\n",
    "    inputs = input_tensor\n",
    "    x = inputs\n",
    "    for _ in range(num_transformer_blocks):\n",
    "        x = transformer_encoder(x, head_size, num_heads, ff_dim, dropout)\n",
    "\n",
    "    x = layers.GlobalAveragePooling1D(data_format=\"channels_first\")(x)\n",
    "    for dim in mlp_units:\n",
    "        x = layers.Dense(dim, activation=\"relu\")(x)\n",
    "        x = layers.Dropout(mlp_dropout)(x)\n",
    "    outputs = layers.Dense(n_classes, activation=\"relu\")(x)\n",
    "    return keras.Model(inputs, outputs)\n"
   ]
  },
  {
   "cell_type": "code",
   "execution_count": 28,
   "id": "5aaee3c2-4e12-4a1c-8e09-1d0e005bfc77",
   "metadata": {
    "execution": {
     "iopub.execute_input": "2022-10-15T13:20:07.340401Z",
     "iopub.status.busy": "2022-10-15T13:20:07.340162Z",
     "iopub.status.idle": "2022-10-15T13:20:07.350260Z",
     "shell.execute_reply": "2022-10-15T13:20:07.349580Z"
    }
   },
   "outputs": [],
   "source": [
    "def run_model(X_train, X_test, y_train, y_test):\n",
    "    #Watch this\n",
    "    # opt = tf.keras.optimizers.SGD(learning_rate=0.0001)\n",
    "    epoch = 1000\n",
    "\n",
    "    lr = 0.0001\n",
    "    decay_rate = lr / epoch\n",
    "    momentum = 0.8\n",
    "    sgd = tf.keras.optimizers.SGD(learning_rate=lr, momentum=momentum, decay=decay_rate, nesterov=False) # Nesterov = False\n",
    "    adam = tf.keras.optimizers.Adam(learning_rate=lr, beta_1=decay_rate, beta_2=decay_rate*decay_rate, epsilon=1e-07, amsgrad=False)\n",
    "    checkpoint = ModelCheckpoint(\"AAC_GILG_CNN.hdf5\", monitor='loss', verbose=0, save_best_only=True, mode='auto', period=1)\n",
    "\n",
    "\n",
    "    cdr_in = Input(shape=(X_train.shape[1], 1))\n",
    "\n",
    "    # # Transformer\n",
    "    # transformer = build_model(\n",
    "    #   cdr_in,\n",
    "    #   head_size=256,\n",
    "    #   num_heads=4,\n",
    "    #   ff_dim=4,\n",
    "    #   num_transformer_blocks=4,\n",
    "    #   mlp_units=[128],\n",
    "    #   mlp_dropout=0.2,\n",
    "    #   dropout=0.1,\n",
    "    # )\n",
    "\n",
    "    # Convolutional\n",
    "    conv = Conv1D(10, kernel_size = 1)(cdr_in)\n",
    "    conv = Conv1D(16, kernel_size = 1)(conv)\n",
    "    conv = Conv1D(10, kernel_size = 1)(conv)\n",
    "\n",
    "    conv = AveragePooling1D(pool_size=1)(conv)\n",
    "    conv = Flatten()(conv)\n",
    "    conv_out = Dense(8, activation='relu')(conv)\n",
    "    conv_model = Model(cdr_in, conv_out)\n",
    "\n",
    "    # Dense\n",
    "    # merged = concatenate([conv_out, transformer.output])\n",
    "    dense = BatchNormalization()(conv_out)\n",
    "\n",
    "    dense = Dense(16,activation=\"LeakyReLU\")(dense)\n",
    "    dense = Dense(64,activation=\"LeakyReLU\")(dense)\n",
    "    dense = Dense(16,activation=\"LeakyReLU\")(dense)\n",
    "    dense = BatchNormalization()(dense)\n",
    "\n",
    "    # model.add(Dropout(0.3))\n",
    "    dense_out = Dense(n_classes, activation=\"softmax\")(dense)\n",
    "\n",
    "    # combine\n",
    "    model = Model(cdr_in, dense_out)\n",
    "\n",
    "    model.summary()\n",
    "\n",
    "    # To my experience, the Stocastic Gradient Descent Optimizer works the best. Adam optimizer also works but not as good as SGD\n",
    "    optimizer = adam\n",
    "    model.compile(loss=tf.keras.losses.CategoricalCrossentropy(), optimizer=optimizer, metrics=['accuracy', 'AUC'])\n",
    "    history = model.fit(X_train, y_train,  batch_size=128, epochs=epoch, validation_data=(X_test, y_test),callbacks=[checkpoint,PlotLossesKeras(),EarlyStopping(monitor='val_loss', patience=10)],verbose=1)\n",
    "\n",
    "    return model"
   ]
  },
  {
   "cell_type": "code",
   "execution_count": null,
   "id": "8b60147d-412b-49be-b9df-d52369f2dc56",
   "metadata": {},
   "outputs": [],
   "source": []
  },
  {
   "cell_type": "code",
   "execution_count": 29,
   "id": "2a831f9d-df63-45d2-be2d-915070a6e047",
   "metadata": {
    "execution": {
     "iopub.execute_input": "2022-10-15T13:20:07.354544Z",
     "iopub.status.busy": "2022-10-15T13:20:07.354252Z",
     "iopub.status.idle": "2022-10-15T13:36:02.949489Z",
     "shell.execute_reply": "2022-10-15T13:36:02.948853Z"
    }
   },
   "outputs": [
    {
     "data": {
      "image/png": "[encoded data removed]",
      "text/plain": [
       "<Figure size 864x864 with 4 Axes>"
      ]
     },
     "metadata": {
      "needs_background": "light"
     },
     "output_type": "display_data"
    },
    {
     "name": "stdout",
     "output_type": "stream",
     "text": [
      "accuracy\n",
      "\ttraining         \t (min:    0.605, max:    0.807, cur:    0.807)\n",
      "\tvalidation       \t (min:    0.581, max:    0.796, cur:    0.793)\n",
      "auc\n",
      "\ttraining         \t (min:    0.628, max:    0.879, cur:    0.879)\n",
      "\tvalidation       \t (min:    0.656, max:    0.868, cur:    0.867)\n",
      "Loss\n",
      "\ttraining         \t (min:    0.432, max:    0.836, cur:    0.433)\n",
      "\tvalidation       \t (min:    0.449, max:    0.654, cur:    0.450)\n",
      "158/158 [==============================] - 5s 33ms/step - loss: 0.4325 - accuracy: 0.8074 - auc: 0.8786 - val_loss: 0.4502 - val_accuracy: 0.7929 - val_auc: 0.8670\n"
     ]
    }
   ],
   "source": [
    "#Fold 1\n",
    "start = time.time()\n",
    "model = run_model(X_train, X_test, y_train, y_test)\n",
    "end = time.time()\n",
    "training_time.append(end-start)"
   ]
  },
  {
   "cell_type": "code",
   "execution_count": 30,
   "id": "6279ddd9-0939-42e0-bbde-595b72fe244d",
   "metadata": {
    "execution": {
     "iopub.execute_input": "2022-10-15T13:36:02.954345Z",
     "iopub.status.busy": "2022-10-15T13:36:02.954087Z",
     "iopub.status.idle": "2022-10-15T13:36:02.958085Z",
     "shell.execute_reply": "2022-10-15T13:36:02.957471Z"
    }
   },
   "outputs": [],
   "source": [
    "# model.save('model_fusion_TransformerConv')"
   ]
  },
  {
   "cell_type": "code",
   "execution_count": 31,
   "id": "d247b802-0164-4c07-b517-f18d4edc03cd",
   "metadata": {
    "execution": {
     "iopub.execute_input": "2022-10-15T13:36:02.961264Z",
     "iopub.status.busy": "2022-10-15T13:36:02.961046Z",
     "iopub.status.idle": "2022-10-15T13:36:02.966861Z",
     "shell.execute_reply": "2022-10-15T13:36:02.966140Z"
    }
   },
   "outputs": [],
   "source": [
    "# pd.DataFrame(X_test.reshape(X_test.shape[0], X_test.shape[1])).to_csv(\"GILG_Xtest.csv\", index=False)\n",
    "# pd.DataFrame(y_test).to_csv(\"GILG_ytest.csv\", index=False)"
   ]
  },
  {
   "cell_type": "code",
   "execution_count": null,
   "id": "e041091b-99df-4529-9a3b-53af20392236",
   "metadata": {},
   "outputs": [],
   "source": []
  },
  {
   "cell_type": "code",
   "execution_count": null,
   "id": "84a95c0c-bf8e-4d4e-b016-824d20fbc0ea",
   "metadata": {},
   "outputs": [],
   "source": []
  },
  {
   "cell_type": "code",
   "execution_count": 32,
   "id": "5e9839c3-b051-413d-bcc6-8767fbe7f614",
   "metadata": {
    "execution": {
     "iopub.execute_input": "2022-10-15T13:36:02.970714Z",
     "iopub.status.busy": "2022-10-15T13:36:02.970422Z",
     "iopub.status.idle": "2022-10-15T13:36:04.539669Z",
     "shell.execute_reply": "2022-10-15T13:36:04.538375Z"
    }
   },
   "outputs": [],
   "source": [
    "start = time.time()\n",
    "y_pred = model.predict(X_test)\n",
    "end = time.time()\n",
    "testing_time.append(end-start)\n",
    "testing_size.append(X_test.shape)\n",
    "\n",
    "y_pred = np.argmax(y_pred, axis=1)\n",
    "y_true = np.argmax(y_test, axis=1)\n",
    "\n",
    "precision_val.append(precision_score(y_true, y_pred, average='weighted'))\n",
    "recall_val.append(recall_score(y_true, y_pred, average='weighted'))\n",
    "auc_val.append(roc_auc_score(y_true, y_pred, average='weighted'))\n",
    "\n",
    "cm = multilabel_confusion_matrix(y_true, y_pred)\n",
    "\n",
    "a = []\n",
    "\n",
    "for i in range(len(cm)):\n",
    "    a.append(cm[i].ravel())\n",
    "\n",
    "tp, fn, fp, tn =np.sum(np.array(a), axis = 0)\n",
    "\n",
    "specificity_val.append(tn / (tn+fp)) #specificity\n",
    "sensitivity_val.append(tp / (tp+fn)) #sensitivity \n",
    "\n",
    "f1score_val.append(f1_score(y_true, y_pred, average='weighted'))\n",
    "accuracy_val.append(accuracy_score(y_true, y_pred))\n"
   ]
  },
  {
   "cell_type": "code",
   "execution_count": null,
   "id": "1a7dd2f5-5fba-46be-ae28-c7e78f7eac9a",
   "metadata": {},
   "outputs": [],
   "source": []
  },
  {
   "cell_type": "code",
   "execution_count": 33,
   "id": "0df741c5-923f-4eb3-8109-2b905b409249",
   "metadata": {
    "execution": {
     "iopub.execute_input": "2022-10-15T13:36:04.545853Z",
     "iopub.status.busy": "2022-10-15T13:36:04.545522Z",
     "iopub.status.idle": "2022-10-15T13:36:04.579269Z",
     "shell.execute_reply": "2022-10-15T13:36:04.578506Z"
    }
   },
   "outputs": [
    {
     "name": "stdout",
     "output_type": "stream",
     "text": [
      "(20102, 10, 1) (5026, 10, 1)\n"
     ]
    }
   ],
   "source": [
    "train_idx, test_idx = next(randomIter)\n",
    "X_train, X_test = X[train_idx], X[test_idx]\n",
    "y_train, y_test = y[train_idx], y[test_idx]\n",
    "        \n",
    "from sklearn.preprocessing import StandardScaler\n",
    "scaler = StandardScaler()\n",
    "scaler.fit(X_train)\n",
    "X_train = scaler.transform(X_train)\n",
    "X_test = scaler.transform(X_test)\n",
    "\n",
    "X_train = X_train.reshape(X_train.shape[0],X_train.shape[1],1)\n",
    "X_test = X_test.reshape(X_test.shape[0],X_test.shape[1],1)\n",
    "\n",
    "print(X_train.shape, X_test.shape)"
   ]
  },
  {
   "cell_type": "code",
   "execution_count": null,
   "id": "295f4488-81bd-49e2-a5da-efe048eb61e8",
   "metadata": {},
   "outputs": [],
   "source": []
  },
  {
   "cell_type": "code",
   "execution_count": 34,
   "id": "7119be90-af2e-4c44-893e-73f6ecc162d2",
   "metadata": {
    "execution": {
     "iopub.execute_input": "2022-10-15T13:36:04.584802Z",
     "iopub.status.busy": "2022-10-15T13:36:04.584491Z",
     "iopub.status.idle": "2022-10-15T13:48:37.826550Z",
     "shell.execute_reply": "2022-10-15T13:48:37.825886Z"
    }
   },
   "outputs": [
    {
     "data": {
      "image/png": "[encoded data removed]",
      "text/plain": [
       "<Figure size 864x864 with 4 Axes>"
      ]
     },
     "metadata": {
      "needs_background": "light"
     },
     "output_type": "display_data"
    },
    {
     "name": "stdout",
     "output_type": "stream",
     "text": [
      "accuracy\n",
      "\ttraining         \t (min:    0.677, max:    0.817, cur:    0.817)\n",
      "\tvalidation       \t (min:    0.706, max:    0.821, cur:    0.821)\n",
      "auc\n",
      "\ttraining         \t (min:    0.733, max:    0.885, cur:    0.884)\n",
      "\tvalidation       \t (min:    0.776, max:    0.883, cur:    0.883)\n",
      "Loss\n",
      "\ttraining         \t (min:    0.420, max:    0.637, cur:    0.422)\n",
      "\tvalidation       \t (min:    0.421, max:    0.586, cur:    0.422)\n",
      "158/158 [==============================] - 5s 33ms/step - loss: 0.4218 - accuracy: 0.8166 - auc: 0.8837 - val_loss: 0.4216 - val_accuracy: 0.8213 - val_auc: 0.8828\n"
     ]
    }
   ],
   "source": [
    "#Fold 2\n",
    "start = time.time()\n",
    "model = run_model(X_train, X_test, y_train, y_test)\n",
    "end = time.time()\n",
    "training_time.append(end-start)"
   ]
  },
  {
   "cell_type": "code",
   "execution_count": 35,
   "id": "9e491ca0-9b1c-4a43-b8a7-3924d9ef400c",
   "metadata": {
    "execution": {
     "iopub.execute_input": "2022-10-15T13:48:37.831855Z",
     "iopub.status.busy": "2022-10-15T13:48:37.831501Z",
     "iopub.status.idle": "2022-10-15T13:48:39.424950Z",
     "shell.execute_reply": "2022-10-15T13:48:39.424017Z"
    }
   },
   "outputs": [],
   "source": [
    "start = time.time()\n",
    "y_pred = model.predict(X_test)\n",
    "end = time.time()\n",
    "testing_time.append(end-start)\n",
    "testing_size.append(X_test.shape)\n",
    "\n",
    "y_pred = np.argmax(y_pred, axis=1)\n",
    "y_true = np.argmax(y_test, axis=1)\n",
    "\n",
    "precision_val.append(precision_score(y_true, y_pred, average='weighted'))\n",
    "recall_val.append(recall_score(y_true, y_pred, average='weighted'))\n",
    "auc_val.append(roc_auc_score(y_true, y_pred, average='weighted'))\n",
    "\n",
    "\n",
    "cm = multilabel_confusion_matrix(y_true, y_pred)\n",
    "\n",
    "a = []\n",
    "\n",
    "for i in range(len(cm)):\n",
    "    a.append(cm[i].ravel())\n",
    "\n",
    "tp, fn, fp, tn =np.sum(np.array(a), axis = 0)\n",
    "\n",
    "specificity_val.append(tn / (tn+fp)) #specificity\n",
    "sensitivity_val.append(tp / (tp+fn)) #sensitivity \n",
    "\n",
    "f1score_val.append(f1_score(y_true, y_pred, average='weighted'))\n",
    "accuracy_val.append(accuracy_score(y_true, y_pred))"
   ]
  },
  {
   "cell_type": "code",
   "execution_count": null,
   "id": "02c21ecf-ac16-4d01-9d10-480aafbf4393",
   "metadata": {},
   "outputs": [],
   "source": []
  },
  {
   "cell_type": "code",
   "execution_count": 36,
   "id": "f2da1b29-2548-4381-bdf4-1d904a359706",
   "metadata": {
    "execution": {
     "iopub.execute_input": "2022-10-15T13:48:39.430586Z",
     "iopub.status.busy": "2022-10-15T13:48:39.430284Z",
     "iopub.status.idle": "2022-10-15T13:48:39.463794Z",
     "shell.execute_reply": "2022-10-15T13:48:39.462731Z"
    }
   },
   "outputs": [
    {
     "name": "stdout",
     "output_type": "stream",
     "text": [
      "(20102, 10, 1) (5026, 10, 1)\n"
     ]
    }
   ],
   "source": [
    "train_idx, test_idx = next(randomIter)\n",
    "X_train, X_test = X[train_idx], X[test_idx]\n",
    "y_train, y_test = y[train_idx], y[test_idx]\n",
    "        \n",
    "from sklearn.preprocessing import StandardScaler\n",
    "scaler = StandardScaler()\n",
    "scaler.fit(X_train)\n",
    "X_train = scaler.transform(X_train)\n",
    "X_test = scaler.transform(X_test)\n",
    "\n",
    "X_train = X_train.reshape(X_train.shape[0],X_train.shape[1],1)\n",
    "X_test = X_test.reshape(X_test.shape[0],X_test.shape[1],1)\n",
    "\n",
    "print(X_train.shape, X_test.shape)"
   ]
  },
  {
   "cell_type": "code",
   "execution_count": null,
   "id": "4d138b7d-4022-43a1-8e15-970d24daebad",
   "metadata": {},
   "outputs": [],
   "source": []
  },
  {
   "cell_type": "code",
   "execution_count": 37,
   "id": "e2fd700b-f65f-412e-8792-7f0288ec7f32",
   "metadata": {
    "execution": {
     "iopub.execute_input": "2022-10-15T13:48:39.469354Z",
     "iopub.status.busy": "2022-10-15T13:48:39.469065Z",
     "iopub.status.idle": "2022-10-15T14:09:19.365108Z",
     "shell.execute_reply": "2022-10-15T14:09:19.364461Z"
    }
   },
   "outputs": [
    {
     "data": {
      "image/png": "[encoded data removed]",
      "text/plain": [
       "<Figure size 864x864 with 4 Axes>"
      ]
     },
     "metadata": {
      "needs_background": "light"
     },
     "output_type": "display_data"
    },
    {
     "name": "stdout",
     "output_type": "stream",
     "text": [
      "accuracy\n",
      "\ttraining         \t (min:    0.645, max:    0.819, cur:    0.819)\n",
      "\tvalidation       \t (min:    0.626, max:    0.808, cur:    0.806)\n",
      "auc\n",
      "\ttraining         \t (min:    0.700, max:    0.889, cur:    0.889)\n",
      "\tvalidation       \t (min:    0.717, max:    0.875, cur:    0.874)\n",
      "Loss\n",
      "\ttraining         \t (min:    0.416, max:    0.653, cur:    0.416)\n",
      "\tvalidation       \t (min:    0.437, max:    0.632, cur:    0.437)\n",
      "158/158 [==============================] - 5s 33ms/step - loss: 0.4164 - accuracy: 0.8190 - auc: 0.8886 - val_loss: 0.4371 - val_accuracy: 0.8056 - val_auc: 0.8738\n"
     ]
    }
   ],
   "source": [
    "#Fold 3\n",
    "start = time.time()\n",
    "model = run_model(X_train, X_test, y_train, y_test)\n",
    "end = time.time()\n",
    "training_time.append(end-start)"
   ]
  },
  {
   "cell_type": "code",
   "execution_count": null,
   "id": "5f7960ec-065c-4be2-8652-8860939da9ff",
   "metadata": {},
   "outputs": [],
   "source": []
  },
  {
   "cell_type": "code",
   "execution_count": 38,
   "id": "7a5aa616-3b7b-4585-8e2f-531edde59db7",
   "metadata": {
    "execution": {
     "iopub.execute_input": "2022-10-15T14:09:19.370278Z",
     "iopub.status.busy": "2022-10-15T14:09:19.370051Z",
     "iopub.status.idle": "2022-10-15T14:09:20.844654Z",
     "shell.execute_reply": "2022-10-15T14:09:20.843622Z"
    }
   },
   "outputs": [],
   "source": [
    "start = time.time()\n",
    "y_pred = model.predict(X_test)\n",
    "end = time.time()\n",
    "testing_time.append(end-start)\n",
    "testing_size.append(X_test.shape)\n",
    "\n",
    "y_pred = np.argmax(y_pred, axis=1)\n",
    "y_true = np.argmax(y_test, axis=1)\n",
    "\n",
    "precision_val.append(precision_score(y_true, y_pred, average='weighted'))\n",
    "recall_val.append(recall_score(y_true, y_pred, average='weighted'))\n",
    "auc_val.append(roc_auc_score(y_true, y_pred, average='weighted'))\n",
    "\n",
    "\n",
    "cm = multilabel_confusion_matrix(y_true, y_pred)\n",
    "\n",
    "a = []\n",
    "\n",
    "for i in range(len(cm)):\n",
    "    a.append(cm[i].ravel())\n",
    "\n",
    "tp, fn, fp, tn =np.sum(np.array(a), axis = 0)\n",
    "\n",
    "specificity_val.append(tn / (tn+fp)) #specificity\n",
    "sensitivity_val.append(tp / (tp+fn)) #sensitivity \n",
    "\n",
    "f1score_val.append(f1_score(y_true, y_pred, average='weighted'))\n",
    "accuracy_val.append(accuracy_score(y_true, y_pred))"
   ]
  },
  {
   "cell_type": "code",
   "execution_count": null,
   "id": "1409452b-cf0b-44fd-84f5-1c6c380d22cd",
   "metadata": {},
   "outputs": [],
   "source": []
  },
  {
   "cell_type": "code",
   "execution_count": 39,
   "id": "e08041b9-4cc1-4b3a-afa8-94d3a9c82d39",
   "metadata": {
    "execution": {
     "iopub.execute_input": "2022-10-15T14:09:20.850751Z",
     "iopub.status.busy": "2022-10-15T14:09:20.850448Z",
     "iopub.status.idle": "2022-10-15T14:09:20.884528Z",
     "shell.execute_reply": "2022-10-15T14:09:20.883660Z"
    }
   },
   "outputs": [
    {
     "name": "stdout",
     "output_type": "stream",
     "text": [
      "(20103, 10, 1) (5025, 10, 1)\n"
     ]
    }
   ],
   "source": [
    "train_idx, test_idx = next(randomIter)\n",
    "X_train, X_test = X[train_idx], X[test_idx]\n",
    "y_train, y_test = y[train_idx], y[test_idx]\n",
    "        \n",
    "from sklearn.preprocessing import StandardScaler\n",
    "scaler = StandardScaler()\n",
    "scaler.fit(X_train)\n",
    "X_train = scaler.transform(X_train)\n",
    "X_test = scaler.transform(X_test)\n",
    "\n",
    "X_train = X_train.reshape(X_train.shape[0],X_train.shape[1],1)\n",
    "X_test = X_test.reshape(X_test.shape[0],X_test.shape[1],1)\n",
    "\n",
    "print(X_train.shape, X_test.shape)"
   ]
  },
  {
   "cell_type": "code",
   "execution_count": null,
   "id": "16453645-39a0-4389-bef0-49540cd41ae3",
   "metadata": {},
   "outputs": [],
   "source": []
  },
  {
   "cell_type": "code",
   "execution_count": 40,
   "id": "b5a8cc39-e773-480b-954a-8c966e857dd2",
   "metadata": {
    "execution": {
     "iopub.execute_input": "2022-10-15T14:09:20.889594Z",
     "iopub.status.busy": "2022-10-15T14:09:20.889304Z",
     "iopub.status.idle": "2022-10-15T14:24:52.816370Z",
     "shell.execute_reply": "2022-10-15T14:24:52.815690Z"
    }
   },
   "outputs": [
    {
     "data": {
      "image/png": "[encoded data removed]",
      "text/plain": [
       "<Figure size 864x864 with 4 Axes>"
      ]
     },
     "metadata": {
      "needs_background": "light"
     },
     "output_type": "display_data"
    },
    {
     "name": "stdout",
     "output_type": "stream",
     "text": [
      "accuracy\n",
      "\ttraining         \t (min:    0.661, max:    0.809, cur:    0.808)\n",
      "\tvalidation       \t (min:    0.644, max:    0.813, cur:    0.807)\n",
      "auc\n",
      "\ttraining         \t (min:    0.708, max:    0.883, cur:    0.882)\n",
      "\tvalidation       \t (min:    0.732, max:    0.879, cur:    0.878)\n",
      "Loss\n",
      "\ttraining         \t (min:    0.425, max:    0.665, cur:    0.426)\n",
      "\tvalidation       \t (min:    0.432, max:    0.630, cur:    0.434)\n",
      "158/158 [==============================] - 5s 33ms/step - loss: 0.4256 - accuracy: 0.8085 - auc: 0.8824 - val_loss: 0.4336 - val_accuracy: 0.8074 - val_auc: 0.8779\n"
     ]
    }
   ],
   "source": [
    "#Fold 4\n",
    "start = time.time()\n",
    "model = run_model(X_train, X_test, y_train, y_test)\n",
    "end = time.time()\n",
    "training_time.append(end-start)"
   ]
  },
  {
   "cell_type": "code",
   "execution_count": 41,
   "id": "c4f924ad-9e74-4447-9d24-38bf67f968ee",
   "metadata": {
    "execution": {
     "iopub.execute_input": "2022-10-15T14:24:52.821007Z",
     "iopub.status.busy": "2022-10-15T14:24:52.820778Z",
     "iopub.status.idle": "2022-10-15T14:24:54.239140Z",
     "shell.execute_reply": "2022-10-15T14:24:54.238169Z"
    }
   },
   "outputs": [],
   "source": [
    "start = time.time()\n",
    "y_pred = model.predict(X_test)\n",
    "end = time.time()\n",
    "testing_time.append(end-start)\n",
    "testing_size.append(X_test.shape)\n",
    "\n",
    "y_pred = np.argmax(y_pred, axis=1)\n",
    "y_true = np.argmax(y_test, axis=1)\n",
    "\n",
    "precision_val.append(precision_score(y_true, y_pred, average='weighted'))\n",
    "recall_val.append(recall_score(y_true, y_pred, average='weighted'))\n",
    "auc_val.append(roc_auc_score(y_true, y_pred, average='weighted'))\n",
    "\n",
    "\n",
    "cm = multilabel_confusion_matrix(y_true, y_pred)\n",
    "\n",
    "a = []\n",
    "\n",
    "for i in range(len(cm)):\n",
    "    a.append(cm[i].ravel())\n",
    "\n",
    "tp, fn, fp, tn =np.sum(np.array(a), axis = 0)\n",
    "\n",
    "specificity_val.append(tn / (tn+fp)) #specificity\n",
    "sensitivity_val.append(tp / (tp+fn)) #sensitivity \n",
    "\n",
    "f1score_val.append(f1_score(y_true, y_pred, average='weighted'))\n",
    "accuracy_val.append(accuracy_score(y_true, y_pred))"
   ]
  },
  {
   "cell_type": "code",
   "execution_count": null,
   "id": "64953395-2b9d-4168-8efb-77efa7cc0a12",
   "metadata": {},
   "outputs": [],
   "source": []
  },
  {
   "cell_type": "code",
   "execution_count": 42,
   "id": "e86d4b4c-b65c-4802-8e57-2acdda6b8bd7",
   "metadata": {
    "execution": {
     "iopub.execute_input": "2022-10-15T14:24:54.244892Z",
     "iopub.status.busy": "2022-10-15T14:24:54.244602Z",
     "iopub.status.idle": "2022-10-15T14:24:54.276733Z",
     "shell.execute_reply": "2022-10-15T14:24:54.275885Z"
    }
   },
   "outputs": [
    {
     "name": "stdout",
     "output_type": "stream",
     "text": [
      "(20103, 10, 1) (5025, 10, 1)\n"
     ]
    }
   ],
   "source": [
    "train_idx, test_idx = next(randomIter)\n",
    "X_train, X_test = X[train_idx], X[test_idx]\n",
    "y_train, y_test = y[train_idx], y[test_idx]\n",
    "        \n",
    "from sklearn.preprocessing import StandardScaler\n",
    "scaler = StandardScaler()\n",
    "scaler.fit(X_train)\n",
    "X_train = scaler.transform(X_train)\n",
    "X_test = scaler.transform(X_test)\n",
    "\n",
    "X_train = X_train.reshape(X_train.shape[0],X_train.shape[1],1)\n",
    "X_test = X_test.reshape(X_test.shape[0],X_test.shape[1],1)\n",
    "\n",
    "print(X_train.shape, X_test.shape)"
   ]
  },
  {
   "cell_type": "code",
   "execution_count": null,
   "id": "cd2ad4a6-b346-49b1-832d-d99eb1f4ed60",
   "metadata": {},
   "outputs": [],
   "source": []
  },
  {
   "cell_type": "code",
   "execution_count": 43,
   "id": "a42e3310-8e49-4174-8ab4-ba9e73ac3141",
   "metadata": {
    "execution": {
     "iopub.execute_input": "2022-10-15T14:24:54.281983Z",
     "iopub.status.busy": "2022-10-15T14:24:54.281699Z",
     "iopub.status.idle": "2022-10-15T14:38:05.339544Z",
     "shell.execute_reply": "2022-10-15T14:38:05.338897Z"
    }
   },
   "outputs": [
    {
     "data": {
      "image/png": "[encoded data removed]",
      "text/plain": [
       "<Figure size 864x864 with 4 Axes>"
      ]
     },
     "metadata": {
      "needs_background": "light"
     },
     "output_type": "display_data"
    },
    {
     "name": "stdout",
     "output_type": "stream",
     "text": [
      "accuracy\n",
      "\ttraining         \t (min:    0.655, max:    0.813, cur:    0.812)\n",
      "\tvalidation       \t (min:    0.659, max:    0.805, cur:    0.801)\n",
      "auc\n",
      "\ttraining         \t (min:    0.715, max:    0.882, cur:    0.881)\n",
      "\tvalidation       \t (min:    0.747, max:    0.873, cur:    0.872)\n",
      "Loss\n",
      "\ttraining         \t (min:    0.424, max:    0.647, cur:    0.426)\n",
      "\tvalidation       \t (min:    0.438, max:    0.648, cur:    0.439)\n",
      "158/158 [==============================] - 5s 33ms/step - loss: 0.4263 - accuracy: 0.8120 - auc: 0.8806 - val_loss: 0.4393 - val_accuracy: 0.8008 - val_auc: 0.8719\n"
     ]
    }
   ],
   "source": [
    "#Fold 5\n",
    "start = time.time()\n",
    "model = run_model(X_train, X_test, y_train, y_test)\n",
    "end = time.time()\n",
    "training_time.append(end-start)"
   ]
  },
  {
   "cell_type": "code",
   "execution_count": 44,
   "id": "29a30eca-8bf5-4d37-9f22-34c7911bef98",
   "metadata": {
    "execution": {
     "iopub.execute_input": "2022-10-15T14:38:05.344896Z",
     "iopub.status.busy": "2022-10-15T14:38:05.344628Z",
     "iopub.status.idle": "2022-10-15T14:38:06.874039Z",
     "shell.execute_reply": "2022-10-15T14:38:06.873066Z"
    }
   },
   "outputs": [],
   "source": [
    "start = time.time()\n",
    "y_pred = model.predict(X_test)\n",
    "end = time.time()\n",
    "testing_time.append(end-start)\n",
    "testing_size.append(X_test.shape)\n",
    "\n",
    "y_pred = np.argmax(y_pred, axis=1)\n",
    "y_true = np.argmax(y_test, axis=1)\n",
    "\n",
    "precision_val.append(precision_score(y_true, y_pred, average='weighted'))\n",
    "recall_val.append(recall_score(y_true, y_pred, average='weighted'))\n",
    "auc_val.append(roc_auc_score(y_true, y_pred, average='weighted'))\n",
    "\n",
    "\n",
    "cm = multilabel_confusion_matrix(y_true, y_pred)\n",
    "\n",
    "a = []\n",
    "\n",
    "for i in range(len(cm)):\n",
    "    a.append(cm[i].ravel())\n",
    "\n",
    "tp, fn, fp, tn =np.sum(np.array(a), axis = 0)\n",
    "\n",
    "specificity_val.append(tn / (tn+fp)) #specificity\n",
    "sensitivity_val.append(tp / (tp+fn)) #sensitivity \n",
    "\n",
    "f1score_val.append(f1_score(y_true, y_pred, average='weighted'))\n",
    "accuracy_val.append(accuracy_score(y_true, y_pred))"
   ]
  },
  {
   "cell_type": "code",
   "execution_count": null,
   "id": "15b38f1d-ad09-4af7-935a-769ef9a17364",
   "metadata": {},
   "outputs": [],
   "source": []
  },
  {
   "cell_type": "code",
   "execution_count": 45,
   "id": "faab6389-e370-4c32-a714-20bb6bb015db",
   "metadata": {
    "execution": {
     "iopub.execute_input": "2022-10-15T14:38:06.880271Z",
     "iopub.status.busy": "2022-10-15T14:38:06.879940Z",
     "iopub.status.idle": "2022-10-15T14:38:06.891756Z",
     "shell.execute_reply": "2022-10-15T14:38:06.890676Z"
    }
   },
   "outputs": [
    {
     "name": "stdout",
     "output_type": "stream",
     "text": [
      "([0.8056333444451785, 0.8359080388439856, 0.8203947372291467, 0.8201964366114538, 0.8130488624603658], 0.819036283918026, [0.7928770393951452, 0.8213290887385595, 0.8056108237166733, 0.807363184079602, 0.8007960199004975], 0.8055952311660954, [0.7928770393951452, 0.8213290887385595, 0.8056108237166733, 0.807363184079602, 0.8007960199004975], 0.8055952311660954, [0.7928770393951452, 0.8213290887385595, 0.8056108237166733, 0.807363184079602, 0.8007960199004975], 0.8055952311660954, [0.7911521669529036, 0.8190072796344146, 0.8038665619457575, 0.8052982161929438, 0.7983769887741929], 0.8035402427000424, [0.7928770393951452, 0.8213290887385595, 0.8056108237166733, 0.807363184079602, 0.8007960199004975], 0.8055952311660954, [0.794485622259304, 0.81968726860926, 0.8076209128024929, 0.806898239119566, 0.7990250917071393], 0.8055434268995525, [955.5919528007507, 753.2382364273071, 1239.8921744823456, 931.9232521057129, 791.054249048233], [1.5437476634979248, 1.5697622299194336, 1.4535939693450928, 1.3991179466247559, 1.5059983730316162], [(5026, 10, 1), (5026, 10, 1), (5026, 10, 1), (5025, 10, 1), (5025, 10, 1)])\n"
     ]
    }
   ],
   "source": [
    "temp = precision_val, np.mean(precision_val), recall_val, np.mean(recall_val), specificity_val, np.mean(specificity_val), sensitivity_val, np.mean(sensitivity_val), f1score_val, np.mean(f1score_val), accuracy_val, np.mean(accuracy_val), auc_val, np.mean(auc_val), training_time, testing_time, testing_size\n",
    "print(temp)\n",
    "\n",
    "Data_Save = []\n",
    "Data_Save.append(temp)\n",
    "pd.DataFrame(Data_Save).to_csv('data_AAC_GILG-CNN_PCA5.csv')"
   ]
  },
  {
   "cell_type": "code",
   "execution_count": null,
   "id": "76f71ed4-0935-4da9-8198-0912b88ef802",
   "metadata": {},
   "outputs": [],
   "source": []
  },
  {
   "cell_type": "code",
   "execution_count": null,
   "id": "73d2b5d7-2afe-41a7-9b7e-099002f8e02c",
   "metadata": {},
   "outputs": [],
   "source": []
  }
 ],
 "metadata": {
  "kernelspec": {
   "display_name": "Python 3 (ipykernel)",
   "language": "python",
   "name": "python3"
  },
  "language_info": {
   "codemirror_mode": {
    "name": "ipython",
    "version": 3
   },
   "file_extension": ".py",
   "mimetype": "text/x-python",
   "name": "python",
   "nbconvert_exporter": "python",
   "pygments_lexer": "ipython3",
   "version": "3.10.8"
  },
  "widgets": {
   "application/vnd.jupyter.widget-state+json": {
    "state": {
     "00bea09028e84a1fab00e168c5e31bcb": {
      "model_module": "@jupyter-widgets/base",
      "model_module_version": "2.0.0",
      "model_name": "LayoutModel",
      "state": {
       "_model_module": "@jupyter-widgets/base",
       "_model_module_version": "2.0.0",
       "_model_name": "LayoutModel",
       "_view_count": null,
       "_view_module": "@jupyter-widgets/base",
       "_view_module_version": "2.0.0",
       "_view_name": "LayoutView",
       "align_content": null,
       "align_items": null,
       "align_self": null,
       "border_bottom": null,
       "border_left": null,
       "border_right": null,
       "border_top": null,
       "bottom": null,
       "display": null,
       "flex": null,
       "flex_flow": null,
       "grid_area": null,
       "grid_auto_columns": null,
       "grid_auto_flow": null,
       "grid_auto_rows": null,
       "grid_column": null,
       "grid_gap": null,
       "grid_row": null,
       "grid_template_areas": null,
       "grid_template_columns": null,
       "grid_template_rows": null,
       "height": null,
       "justify_content": null,
       "justify_items": null,
       "left": null,
       "margin": null,
       "max_height": null,
       "max_width": null,
       "min_height": null,
       "min_width": null,
       "object_fit": null,
       "object_position": null,
       "order": null,
       "overflow": null,
       "padding": null,
       "right": null,
       "top": null,
       "visibility": null,
       "width": null
      }
     },
     "180d6baadee14993bb5a60d4ef083e61": {
      "model_module": "@jupyter-widgets/base",
      "model_module_version": "2.0.0",
      "model_name": "LayoutModel",
      "state": {
       "_model_module": "@jupyter-widgets/base",
       "_model_module_version": "2.0.0",
       "_model_name": "LayoutModel",
       "_view_count": null,
       "_view_module": "@jupyter-widgets/base",
       "_view_module_version": "2.0.0",
       "_view_name": "LayoutView",
       "align_content": null,
       "align_items": null,
       "align_self": null,
       "border_bottom": null,
       "border_left": null,
       "border_right": null,
       "border_top": null,
       "bottom": null,
       "display": null,
       "flex": null,
       "flex_flow": null,
       "grid_area": null,
       "grid_auto_columns": null,
       "grid_auto_flow": null,
       "grid_auto_rows": null,
       "grid_column": null,
       "grid_gap": null,
       "grid_row": null,
       "grid_template_areas": null,
       "grid_template_columns": null,
       "grid_template_rows": null,
       "height": null,
       "justify_content": null,
       "justify_items": null,
       "left": null,
       "margin": null,
       "max_height": null,
       "max_width": null,
       "min_height": null,
       "min_width": null,
       "object_fit": null,
       "object_position": null,
       "order": null,
       "overflow": null,
       "padding": null,
       "right": null,
       "top": null,
       "visibility": null,
       "width": null
      }
     },
     "2cd51071af78417383db2e83b0ad2da9": {
      "model_module": "@jupyter-widgets/controls",
      "model_module_version": "2.0.0",
      "model_name": "HTMLModel",
      "state": {
       "_dom_classes": [],
       "_model_module": "@jupyter-widgets/controls",
       "_model_module_version": "2.0.0",
       "_model_name": "HTMLModel",
       "_view_count": null,
       "_view_module": "@jupyter-widgets/controls",
       "_view_module_version": "2.0.0",
       "_view_name": "HTMLView",
       "description": "",
       "description_allow_html": false,
       "layout": "IPY_MODEL_00bea09028e84a1fab00e168c5e31bcb",
       "placeholder": "​",
       "style": "IPY_MODEL_979274b52566455d8df3e0702d7aa115",
       "tabbable": null,
       "tooltip": null,
       "value": " 1/1 [00:01&lt;00:00,  1.88s/it]"
      }
     },
     "7705b82d132e4e78a0164786647dbafd": {
      "model_module": "@jupyter-widgets/base",
      "model_module_version": "2.0.0",
      "model_name": "LayoutModel",
      "state": {
       "_model_module": "@jupyter-widgets/base",
       "_model_module_version": "2.0.0",
       "_model_name": "LayoutModel",
       "_view_count": null,
       "_view_module": "@jupyter-widgets/base",
       "_view_module_version": "2.0.0",
       "_view_name": "LayoutView",
       "align_content": null,
       "align_items": null,
       "align_self": null,
       "border_bottom": null,
       "border_left": null,
       "border_right": null,
       "border_top": null,
       "bottom": null,
       "display": null,
       "flex": null,
       "flex_flow": null,
       "grid_area": null,
       "grid_auto_columns": null,
       "grid_auto_flow": null,
       "grid_auto_rows": null,
       "grid_column": null,
       "grid_gap": null,
       "grid_row": null,
       "grid_template_areas": null,
       "grid_template_columns": null,
       "grid_template_rows": null,
       "height": null,
       "justify_content": null,
       "justify_items": null,
       "left": null,
       "margin": null,
       "max_height": null,
       "max_width": null,
       "min_height": null,
       "min_width": null,
       "object_fit": null,
       "object_position": null,
       "order": null,
       "overflow": null,
       "padding": null,
       "right": null,
       "top": null,
       "visibility": null,
       "width": null
      }
     },
     "979274b52566455d8df3e0702d7aa115": {
      "model_module": "@jupyter-widgets/controls",
      "model_module_version": "2.0.0",
      "model_name": "HTMLStyleModel",
      "state": {
       "_model_module": "@jupyter-widgets/controls",
       "_model_module_version": "2.0.0",
       "_model_name": "HTMLStyleModel",
       "_view_count": null,
       "_view_module": "@jupyter-widgets/base",
       "_view_module_version": "2.0.0",
       "_view_name": "StyleView",
       "background": null,
       "description_width": "",
       "font_size": null,
       "text_color": null
      }
     },
     "ad9cf6eb1ef94c899a01db7a486df339": {
      "model_module": "@jupyter-widgets/controls",
      "model_module_version": "2.0.0",
      "model_name": "FloatProgressModel",
      "state": {
       "_dom_classes": [],
       "_model_module": "@jupyter-widgets/controls",
       "_model_module_version": "2.0.0",
       "_model_name": "FloatProgressModel",
       "_view_count": null,
       "_view_module": "@jupyter-widgets/controls",
       "_view_module_version": "2.0.0",
       "_view_name": "ProgressView",
       "bar_style": "success",
       "description": "",
       "description_allow_html": false,
       "layout": "IPY_MODEL_7705b82d132e4e78a0164786647dbafd",
       "max": 1,
       "min": 0,
       "orientation": "horizontal",
       "style": "IPY_MODEL_d528656612fa4aa58fa74548d5466f20",
       "tabbable": null,
       "tooltip": null,
       "value": 1
      }
     },
     "b616b8a7f6644d5b81aee2c33f15e7b6": {
      "model_module": "@jupyter-widgets/base",
      "model_module_version": "2.0.0",
      "model_name": "LayoutModel",
      "state": {
       "_model_module": "@jupyter-widgets/base",
       "_model_module_version": "2.0.0",
       "_model_name": "LayoutModel",
       "_view_count": null,
       "_view_module": "@jupyter-widgets/base",
       "_view_module_version": "2.0.0",
       "_view_name": "LayoutView",
       "align_content": null,
       "align_items": null,
       "align_self": null,
       "border_bottom": null,
       "border_left": null,
       "border_right": null,
       "border_top": null,
       "bottom": null,
       "display": null,
       "flex": null,
       "flex_flow": null,
       "grid_area": null,
       "grid_auto_columns": null,
       "grid_auto_flow": null,
       "grid_auto_rows": null,
       "grid_column": null,
       "grid_gap": null,
       "grid_row": null,
       "grid_template_areas": null,
       "grid_template_columns": null,
       "grid_template_rows": null,
       "height": null,
       "justify_content": null,
       "justify_items": null,
       "left": null,
       "margin": null,
       "max_height": null,
       "max_width": null,
       "min_height": null,
       "min_width": null,
       "object_fit": null,
       "object_position": null,
       "order": null,
       "overflow": null,
       "padding": null,
       "right": null,
       "top": null,
       "visibility": null,
       "width": null
      }
     },
     "d4b735550a7b42919d3356f9b3d97e8e": {
      "model_module": "@jupyter-widgets/controls",
      "model_module_version": "2.0.0",
      "model_name": "HTMLModel",
      "state": {
       "_dom_classes": [],
       "_model_module": "@jupyter-widgets/controls",
       "_model_module_version": "2.0.0",
       "_model_name": "HTMLModel",
       "_view_count": null,
       "_view_module": "@jupyter-widgets/controls",
       "_view_module_version": "2.0.0",
       "_view_name": "HTMLView",
       "description": "",
       "description_allow_html": false,
       "layout": "IPY_MODEL_180d6baadee14993bb5a60d4ef083e61",
       "placeholder": "​",
       "style": "IPY_MODEL_f87f1e3b2f2b44f0bd566a56d9d39ca5",
       "tabbable": null,
       "tooltip": null,
       "value": "target: 100%"
      }
     },
     "d528656612fa4aa58fa74548d5466f20": {
      "model_module": "@jupyter-widgets/controls",
      "model_module_version": "2.0.0",
      "model_name": "ProgressStyleModel",
      "state": {
       "_model_module": "@jupyter-widgets/controls",
       "_model_module_version": "2.0.0",
       "_model_name": "ProgressStyleModel",
       "_view_count": null,
       "_view_module": "@jupyter-widgets/base",
       "_view_module_version": "2.0.0",
       "_view_name": "StyleView",
       "bar_color": null,
       "description_width": ""
      }
     },
     "e55b9906decc43fb80e15aece2ca7dcf": {
      "model_module": "@jupyter-widgets/controls",
      "model_module_version": "2.0.0",
      "model_name": "HBoxModel",
      "state": {
       "_dom_classes": [],
       "_model_module": "@jupyter-widgets/controls",
       "_model_module_version": "2.0.0",
       "_model_name": "HBoxModel",
       "_view_count": null,
       "_view_module": "@jupyter-widgets/controls",
       "_view_module_version": "2.0.0",
       "_view_name": "HBoxView",
       "box_style": "",
       "children": [
        "IPY_MODEL_d4b735550a7b42919d3356f9b3d97e8e",
        "IPY_MODEL_ad9cf6eb1ef94c899a01db7a486df339",
        "IPY_MODEL_2cd51071af78417383db2e83b0ad2da9"
       ],
       "layout": "IPY_MODEL_b616b8a7f6644d5b81aee2c33f15e7b6",
       "tabbable": null,
       "tooltip": null
      }
     },
     "f87f1e3b2f2b44f0bd566a56d9d39ca5": {
      "model_module": "@jupyter-widgets/controls",
      "model_module_version": "2.0.0",
      "model_name": "HTMLStyleModel",
      "state": {
       "_model_module": "@jupyter-widgets/controls",
       "_model_module_version": "2.0.0",
       "_model_name": "HTMLStyleModel",
       "_view_count": null,
       "_view_module": "@jupyter-widgets/base",
       "_view_module_version": "2.0.0",
       "_view_name": "StyleView",
       "background": null,
       "description_width": "",
       "font_size": null,
       "text_color": null
      }
     }
    },
    "version_major": 2,
    "version_minor": 0
   }
  }
 },
 "nbformat": 4,
 "nbformat_minor": 5
}
