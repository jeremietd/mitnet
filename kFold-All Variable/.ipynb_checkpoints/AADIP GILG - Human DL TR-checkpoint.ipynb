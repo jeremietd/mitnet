{
 "cells": [
  {
   "cell_type": "code",
   "execution_count": 1,
   "id": "5542b766-874f-4fe9-8da4-ecd0c29c1267",
   "metadata": {
    "execution": {
     "iopub.execute_input": "2022-10-16T02:38:16.658904Z",
     "iopub.status.busy": "2022-10-16T02:38:16.658122Z",
     "iopub.status.idle": "2022-10-16T02:38:17.826866Z",
     "shell.execute_reply": "2022-10-16T02:38:17.825918Z"
    }
   },
   "outputs": [],
   "source": [
    "from tqdm.notebook import tqdm\n",
    "import os\n",
    "import pandas as pd\n",
    "import numpy as np\n",
    "from sklearn.decomposition import KernelPCA\n",
    "from sklearn.decomposition import PCA\n",
    "\n",
    "from sklearn.model_selection import KFold \n",
    "from sklearn.model_selection import StratifiedKFold\n",
    "from sklearn.metrics import precision_score\n",
    "from sklearn.metrics import recall_score\n",
    "from sklearn.metrics import f1_score\n",
    "from sklearn.metrics import multilabel_confusion_matrix\n",
    "from sklearn.metrics import accuracy_score\n",
    "from sklearn.metrics import roc_auc_score\n",
    "\n",
    "import time\n",
    "import random\n",
    "\n",
    "random.seed(1)"
   ]
  },
  {
   "cell_type": "code",
   "execution_count": null,
   "id": "e620be95-e932-45b2-9c2a-67110f14dd09",
   "metadata": {},
   "outputs": [],
   "source": []
  },
  {
   "cell_type": "code",
   "execution_count": 2,
   "id": "3bea7d2f-df1e-4485-9da3-945ec02f9bb9",
   "metadata": {
    "execution": {
     "iopub.execute_input": "2022-10-16T02:38:17.832606Z",
     "iopub.status.busy": "2022-10-16T02:38:17.832232Z",
     "iopub.status.idle": "2022-10-16T02:48:12.025269Z",
     "shell.execute_reply": "2022-10-16T02:48:12.024264Z"
    }
   },
   "outputs": [
    {
     "name": "stderr",
     "output_type": "stream",
     "text": [
      "/home/criesavian/.local/lib/python3.9/site-packages/IPython/core/interactiveshell.py:3397: DtypeWarning: Columns (8) have mixed types.Specify dtype option on import or set low_memory=False.\n",
      "  exec(code_obj, self.user_global_ns, self.user_ns)\n"
     ]
    }
   ],
   "source": [
    "# DIP = pd.read_csv(\"DIP_Feature.csv\")\n",
    "AADIP = pd.read_csv(\"../AADIP/AADIP_Feature.csv\")\n",
    "# SPC = pd.read_csv(\"Spectrum_Feature.csv\")\n",
    "# AADIP = pd.read_csv(\"AADIP_Feature.csv\")"
   ]
  },
  {
   "cell_type": "code",
   "execution_count": 3,
   "id": "bb04f348-2d49-46f9-9af5-6fd976415c93",
   "metadata": {
    "execution": {
     "iopub.execute_input": "2022-10-16T02:48:12.030672Z",
     "iopub.status.busy": "2022-10-16T02:48:12.030404Z",
     "iopub.status.idle": "2022-10-16T02:48:16.739580Z",
     "shell.execute_reply": "2022-10-16T02:48:16.738909Z"
    }
   },
   "outputs": [
    {
     "data": {
      "text/html": [
       "<div>\n",
       "<style scoped>\n",
       "    .dataframe tbody tr th:only-of-type {\n",
       "        vertical-align: middle;\n",
       "    }\n",
       "\n",
       "    .dataframe tbody tr th {\n",
       "        vertical-align: top;\n",
       "    }\n",
       "\n",
       "    .dataframe thead th {\n",
       "        text-align: right;\n",
       "    }\n",
       "</style>\n",
       "<table border=\"1\" class=\"dataframe\">\n",
       "  <thead>\n",
       "    <tr style=\"text-align: right;\">\n",
       "      <th></th>\n",
       "      <th>Gene</th>\n",
       "      <th>CDR3</th>\n",
       "      <th>V</th>\n",
       "      <th>J</th>\n",
       "      <th>Species</th>\n",
       "      <th>MHC A</th>\n",
       "      <th>Epitope</th>\n",
       "      <th>Epitope Species</th>\n",
       "      <th>Feature_0</th>\n",
       "      <th>Feature_1</th>\n",
       "      <th>...</th>\n",
       "      <th>Feature_8410</th>\n",
       "      <th>Feature_8411</th>\n",
       "      <th>Feature_8412</th>\n",
       "      <th>Feature_8413</th>\n",
       "      <th>Feature_8414</th>\n",
       "      <th>Feature_8415</th>\n",
       "      <th>Feature_8416</th>\n",
       "      <th>Feature_8417</th>\n",
       "      <th>Feature_8418</th>\n",
       "      <th>Feature_8419</th>\n",
       "    </tr>\n",
       "  </thead>\n",
       "  <tbody>\n",
       "    <tr>\n",
       "      <th>0</th>\n",
       "      <td>TRA</td>\n",
       "      <td>IVVRSSNTGKLI00000000000000000000000000</td>\n",
       "      <td>TRAV26-1*01</td>\n",
       "      <td>TRAJ37*01</td>\n",
       "      <td>HomoSapiens</td>\n",
       "      <td>HLA-E*01:01, HLA-E*01:03</td>\n",
       "      <td>VMAPRTLIL</td>\n",
       "      <td>Homo sapiens (human)</td>\n",
       "      <td>0.000</td>\n",
       "      <td>2.632</td>\n",
       "      <td>...</td>\n",
       "      <td>0.0</td>\n",
       "      <td>0.0</td>\n",
       "      <td>0.0</td>\n",
       "      <td>0.0</td>\n",
       "      <td>0.0</td>\n",
       "      <td>0.0</td>\n",
       "      <td>0.0</td>\n",
       "      <td>0.0</td>\n",
       "      <td>0.0</td>\n",
       "      <td>0.0</td>\n",
       "    </tr>\n",
       "    <tr>\n",
       "      <th>1</th>\n",
       "      <td>TRA</td>\n",
       "      <td>CAVRPTSGGSYIPTF00000000000000000000000</td>\n",
       "      <td>TRAV21*01</td>\n",
       "      <td>TRAJ6*01</td>\n",
       "      <td>HomoSapiens</td>\n",
       "      <td>HLA-A*02:01</td>\n",
       "      <td>SLLMWITQC</td>\n",
       "      <td>Homo sapiens (human)</td>\n",
       "      <td>2.632</td>\n",
       "      <td>2.632</td>\n",
       "      <td>...</td>\n",
       "      <td>0.0</td>\n",
       "      <td>0.0</td>\n",
       "      <td>0.0</td>\n",
       "      <td>0.0</td>\n",
       "      <td>0.0</td>\n",
       "      <td>0.0</td>\n",
       "      <td>0.0</td>\n",
       "      <td>0.0</td>\n",
       "      <td>0.0</td>\n",
       "      <td>0.0</td>\n",
       "    </tr>\n",
       "    <tr>\n",
       "      <th>2</th>\n",
       "      <td>TRA</td>\n",
       "      <td>TVYGGATNKLI000000000000000000000000000</td>\n",
       "      <td>TRAV26-2*01</td>\n",
       "      <td>TRAJ32*01</td>\n",
       "      <td>HomoSapiens</td>\n",
       "      <td>HLA-DRB1*04:01</td>\n",
       "      <td>LSRFSWGAEGQRPGFGYGG</td>\n",
       "      <td>Homo sapiens (human)</td>\n",
       "      <td>2.632</td>\n",
       "      <td>0.000</td>\n",
       "      <td>...</td>\n",
       "      <td>0.0</td>\n",
       "      <td>0.0</td>\n",
       "      <td>0.0</td>\n",
       "      <td>0.0</td>\n",
       "      <td>0.0</td>\n",
       "      <td>0.0</td>\n",
       "      <td>0.0</td>\n",
       "      <td>0.0</td>\n",
       "      <td>0.0</td>\n",
       "      <td>0.0</td>\n",
       "    </tr>\n",
       "    <tr>\n",
       "      <th>3</th>\n",
       "      <td>TRA</td>\n",
       "      <td>TVYGGATNKLI000000000000000000000000000</td>\n",
       "      <td>TRAV26-2*01</td>\n",
       "      <td>TRAJ32*01</td>\n",
       "      <td>HomoSapiens</td>\n",
       "      <td>HLA-DRB1*04:01</td>\n",
       "      <td>LSRFSWGAEGQRPGFGYGG</td>\n",
       "      <td>Homo sapiens (human)</td>\n",
       "      <td>2.632</td>\n",
       "      <td>0.000</td>\n",
       "      <td>...</td>\n",
       "      <td>0.0</td>\n",
       "      <td>0.0</td>\n",
       "      <td>0.0</td>\n",
       "      <td>0.0</td>\n",
       "      <td>0.0</td>\n",
       "      <td>0.0</td>\n",
       "      <td>0.0</td>\n",
       "      <td>0.0</td>\n",
       "      <td>0.0</td>\n",
       "      <td>0.0</td>\n",
       "    </tr>\n",
       "    <tr>\n",
       "      <th>4</th>\n",
       "      <td>TRA</td>\n",
       "      <td>AVRVTGGFKTI000000000000000000000000000</td>\n",
       "      <td>TCRAV1-2</td>\n",
       "      <td>TCRVJ9</td>\n",
       "      <td>HomoSapiens</td>\n",
       "      <td>human CD1b</td>\n",
       "      <td>6-deoxy-D-glucos-6-yl corynomycolate</td>\n",
       "      <td>Rhodococcus equi</td>\n",
       "      <td>2.632</td>\n",
       "      <td>2.632</td>\n",
       "      <td>...</td>\n",
       "      <td>0.0</td>\n",
       "      <td>0.0</td>\n",
       "      <td>0.0</td>\n",
       "      <td>0.0</td>\n",
       "      <td>0.0</td>\n",
       "      <td>0.0</td>\n",
       "      <td>0.0</td>\n",
       "      <td>0.0</td>\n",
       "      <td>0.0</td>\n",
       "      <td>0.0</td>\n",
       "    </tr>\n",
       "  </tbody>\n",
       "</table>\n",
       "<p>5 rows × 8428 columns</p>\n",
       "</div>"
      ],
      "text/plain": [
       "  Gene                                    CDR3            V          J  \\\n",
       "0  TRA  IVVRSSNTGKLI00000000000000000000000000  TRAV26-1*01  TRAJ37*01   \n",
       "1  TRA  CAVRPTSGGSYIPTF00000000000000000000000    TRAV21*01   TRAJ6*01   \n",
       "2  TRA  TVYGGATNKLI000000000000000000000000000  TRAV26-2*01  TRAJ32*01   \n",
       "3  TRA  TVYGGATNKLI000000000000000000000000000  TRAV26-2*01  TRAJ32*01   \n",
       "4  TRA  AVRVTGGFKTI000000000000000000000000000     TCRAV1-2     TCRVJ9   \n",
       "\n",
       "       Species                     MHC A  \\\n",
       "0  HomoSapiens  HLA-E*01:01, HLA-E*01:03   \n",
       "1  HomoSapiens               HLA-A*02:01   \n",
       "2  HomoSapiens            HLA-DRB1*04:01   \n",
       "3  HomoSapiens            HLA-DRB1*04:01   \n",
       "4  HomoSapiens                human CD1b   \n",
       "\n",
       "                                Epitope       Epitope Species  Feature_0  \\\n",
       "0                             VMAPRTLIL  Homo sapiens (human)      0.000   \n",
       "1                             SLLMWITQC  Homo sapiens (human)      2.632   \n",
       "2                   LSRFSWGAEGQRPGFGYGG  Homo sapiens (human)      2.632   \n",
       "3                   LSRFSWGAEGQRPGFGYGG  Homo sapiens (human)      2.632   \n",
       "4  6-deoxy-D-glucos-6-yl corynomycolate      Rhodococcus equi      2.632   \n",
       "\n",
       "   Feature_1  ...  Feature_8410  Feature_8411  Feature_8412  Feature_8413  \\\n",
       "0      2.632  ...           0.0           0.0           0.0           0.0   \n",
       "1      2.632  ...           0.0           0.0           0.0           0.0   \n",
       "2      0.000  ...           0.0           0.0           0.0           0.0   \n",
       "3      0.000  ...           0.0           0.0           0.0           0.0   \n",
       "4      2.632  ...           0.0           0.0           0.0           0.0   \n",
       "\n",
       "   Feature_8414  Feature_8415  Feature_8416  Feature_8417  Feature_8418  \\\n",
       "0           0.0           0.0           0.0           0.0           0.0   \n",
       "1           0.0           0.0           0.0           0.0           0.0   \n",
       "2           0.0           0.0           0.0           0.0           0.0   \n",
       "3           0.0           0.0           0.0           0.0           0.0   \n",
       "4           0.0           0.0           0.0           0.0           0.0   \n",
       "\n",
       "   Feature_8419  \n",
       "0           0.0  \n",
       "1           0.0  \n",
       "2           0.0  \n",
       "3           0.0  \n",
       "4           0.0  \n",
       "\n",
       "[5 rows x 8428 columns]"
      ]
     },
     "execution_count": 3,
     "metadata": {},
     "output_type": "execute_result"
    }
   ],
   "source": [
    "AADIP = AADIP.drop('Unnamed: 0', axis=1)\n",
    "AADIP.head()"
   ]
  },
  {
   "cell_type": "code",
   "execution_count": 4,
   "id": "28c04e47-7499-4f08-aebe-ca97aeb9be82",
   "metadata": {
    "execution": {
     "iopub.execute_input": "2022-10-16T02:48:16.745502Z",
     "iopub.status.busy": "2022-10-16T02:48:16.745253Z",
     "iopub.status.idle": "2022-10-16T02:48:20.925294Z",
     "shell.execute_reply": "2022-10-16T02:48:20.924480Z"
    }
   },
   "outputs": [],
   "source": [
    "tcr_human = AADIP"
   ]
  },
  {
   "cell_type": "code",
   "execution_count": 5,
   "id": "8d6da0c5-cc21-4116-955d-e833559db4b3",
   "metadata": {
    "ExecuteTime": {
     "end_time": "2022-03-14T07:54:35.165398Z",
     "start_time": "2022-03-14T07:54:34.994359Z"
    },
    "execution": {
     "iopub.execute_input": "2022-10-16T02:48:20.930347Z",
     "iopub.status.busy": "2022-10-16T02:48:20.930092Z",
     "iopub.status.idle": "2022-10-16T02:48:20.935661Z",
     "shell.execute_reply": "2022-10-16T02:48:20.934943Z"
    },
    "tags": []
   },
   "outputs": [],
   "source": [
    "def remove_symbol(data):\n",
    "  data_temp1 = []\n",
    "  data_temp2 = []\n",
    "  \n",
    "  data = data.reset_index(drop=True)  \n",
    "    \n",
    "  for i in range(data.shape[0]):    \n",
    "    temp = str(data[i]).replace(\"*\",\"\")    \n",
    "    data_temp1.append(temp)\n",
    "  \n",
    "  data_temp1 = np.asarray(data_temp1)\n",
    "\n",
    "  for i in range(data_temp1.shape[0]):\n",
    "    temp = data_temp1[i].replace(\"-\",\"\")\n",
    "    data_temp2.append(temp)\n",
    "  \n",
    "  data_temp2 = np.asarray(data_temp2)\n",
    "  return data_temp2"
   ]
  },
  {
   "cell_type": "code",
   "execution_count": null,
   "id": "faa5e583-a506-4e76-8f68-41dba5be46a1",
   "metadata": {},
   "outputs": [],
   "source": []
  },
  {
   "cell_type": "code",
   "execution_count": 6,
   "id": "f05a8ce4-55f2-42b3-951b-388a277cf15f",
   "metadata": {
    "ExecuteTime": {
     "end_time": "2022-03-14T07:54:37.460512Z",
     "start_time": "2022-03-14T07:54:36.960333Z"
    },
    "execution": {
     "iopub.execute_input": "2022-10-16T02:48:20.940042Z",
     "iopub.status.busy": "2022-10-16T02:48:20.939798Z",
     "iopub.status.idle": "2022-10-16T02:48:22.754744Z",
     "shell.execute_reply": "2022-10-16T02:48:22.753932Z"
    },
    "tags": []
   },
   "outputs": [
    {
     "name": "stdout",
     "output_type": "stream",
     "text": [
      "(201848, 1) (201848, 1)\n"
     ]
    },
    {
     "name": "stderr",
     "output_type": "stream",
     "text": [
      "/tmp/ipykernel_10864/631406096.py:19: SettingWithCopyWarning: \n",
      "A value is trying to be set on a copy of a slice from a DataFrame.\n",
      "Try using .loc[row_indexer,col_indexer] = value instead\n",
      "\n",
      "See the caveats in the documentation: https://pandas.pydata.org/pandas-docs/stable/user_guide/indexing.html#returning-a-view-versus-a-copy\n",
      "  tcr_human['V']=V\n",
      "/tmp/ipykernel_10864/631406096.py:20: SettingWithCopyWarning: \n",
      "A value is trying to be set on a copy of a slice from a DataFrame.\n",
      "Try using .loc[row_indexer,col_indexer] = value instead\n",
      "\n",
      "See the caveats in the documentation: https://pandas.pydata.org/pandas-docs/stable/user_guide/indexing.html#returning-a-view-versus-a-copy\n",
      "  tcr_human['J']=J\n"
     ]
    }
   ],
   "source": [
    "V = remove_symbol(tcr_human['V'])\n",
    "J = remove_symbol(tcr_human['J'])\n",
    "mhc_a = remove_symbol(tcr_human['MHC A'])\n",
    "gene = remove_symbol(tcr_human['Gene'])\n",
    "\n",
    "from sklearn import preprocessing\n",
    "vle = preprocessing.LabelEncoder()\n",
    "vle.fit(V)\n",
    "\n",
    "V = vle.transform(V)\n",
    "V = V.reshape(-1, 1)\n",
    "\n",
    "from sklearn import preprocessing\n",
    "jle = preprocessing.LabelEncoder()\n",
    "jle.fit(J)\n",
    "\n",
    "J = jle.transform(J)\n",
    "J = J.reshape(-1, 1)\n",
    "\n",
    "from sklearn import preprocessing\n",
    "mhc_le = preprocessing.LabelEncoder()\n",
    "mhc_le.fit(mhc_a)\n",
    "\n",
    "mhc_a = mhc_le.transform(mhc_a)\n",
    "mhc_a = mhc_a.reshape(-1, 1)\n",
    "\n",
    "from sklearn import preprocessing\n",
    "gene_le = preprocessing.LabelEncoder()\n",
    "gene_le.fit(gene)\n",
    "\n",
    "gene = gene_le.transform(gene)\n",
    "gene = gene.reshape(-1, 1)\n",
    "\n",
    "print(V.shape, J.shape, mhc_a.shape, gene.shape)\n",
    "\n",
    "tcr_human['V']=V\n",
    "tcr_human['J']=J\n",
    "tcr_human['MHC A']=mhc_a\n",
    "tcr_human['Gene']=gene"
   ]
  },
  {
   "cell_type": "code",
   "execution_count": null,
   "id": "94cf4dbb-bc4f-4330-9ad6-2215b80604cb",
   "metadata": {},
   "outputs": [],
   "source": []
  },
  {
   "cell_type": "code",
   "execution_count": 7,
   "id": "acb5a20d-1255-4471-8bb6-fb38e7ba54f7",
   "metadata": {
    "ExecuteTime": {
     "end_time": "2022-03-14T07:54:38.441766Z",
     "start_time": "2022-03-14T07:54:38.272667Z"
    },
    "execution": {
     "iopub.execute_input": "2022-10-16T02:48:22.762069Z",
     "iopub.status.busy": "2022-10-16T02:48:22.761838Z",
     "iopub.status.idle": "2022-10-16T02:48:22.765516Z",
     "shell.execute_reply": "2022-10-16T02:48:22.764822Z"
    },
    "tags": []
   },
   "outputs": [],
   "source": [
    "# tcr_human.head()"
   ]
  },
  {
   "cell_type": "code",
   "execution_count": null,
   "id": "f25e03af-4e87-4072-8d0e-6bde5a108a79",
   "metadata": {},
   "outputs": [],
   "source": []
  },
  {
   "cell_type": "code",
   "execution_count": 8,
   "id": "e465ca8a-c086-4843-b80d-af122a0deb29",
   "metadata": {
    "ExecuteTime": {
     "end_time": "2022-03-14T07:54:39.421485Z",
     "start_time": "2022-03-14T07:54:39.252609Z"
    },
    "execution": {
     "iopub.execute_input": "2022-10-16T02:48:22.769899Z",
     "iopub.status.busy": "2022-10-16T02:48:22.769603Z",
     "iopub.status.idle": "2022-10-16T02:48:22.773362Z",
     "shell.execute_reply": "2022-10-16T02:48:22.772664Z"
    },
    "tags": []
   },
   "outputs": [],
   "source": [
    "# from sklearn import preprocessing\n",
    "# ele = preprocessing.LabelEncoder()\n",
    "# ele.fit(tcr_human['Epitope'])\n",
    "\n",
    "# target = ele.transform(tcr_human['Epitope'])\n",
    "# target = target.reshape(-1, 1)\n",
    "\n",
    "# tcr_human['Epitope'] = target"
   ]
  },
  {
   "cell_type": "code",
   "execution_count": null,
   "id": "94444496-3195-4082-94cc-8fac1ff7515b",
   "metadata": {},
   "outputs": [],
   "source": []
  },
  {
   "cell_type": "code",
   "execution_count": 9,
   "id": "fc76e890-6475-42b5-b570-2168c8e0aabf",
   "metadata": {
    "ExecuteTime": {
     "end_time": "2022-03-14T07:54:40.405096Z",
     "start_time": "2022-03-14T07:54:40.231496Z"
    },
    "execution": {
     "iopub.execute_input": "2022-10-16T02:48:22.805310Z",
     "iopub.status.busy": "2022-10-16T02:48:22.804916Z",
     "iopub.status.idle": "2022-10-16T02:48:26.510298Z",
     "shell.execute_reply": "2022-10-16T02:48:26.509392Z"
    },
    "tags": []
   },
   "outputs": [],
   "source": [
    "tcr_human = tcr_human.reset_index(drop=True)\n",
    "# tcr_human.head()"
   ]
  },
  {
   "cell_type": "code",
   "execution_count": null,
   "id": "0299717a-def2-4d87-b589-321e12a0af62",
   "metadata": {},
   "outputs": [],
   "source": []
  },
  {
   "cell_type": "code",
   "execution_count": 10,
   "id": "6fcc475f-3c2f-4ccb-b95d-23e163289e31",
   "metadata": {
    "ExecuteTime": {
     "end_time": "2022-03-14T07:54:41.384588Z",
     "start_time": "2022-03-14T07:54:41.213017Z"
    },
    "execution": {
     "iopub.execute_input": "2022-10-16T02:48:26.516015Z",
     "iopub.status.busy": "2022-10-16T02:48:26.515761Z",
     "iopub.status.idle": "2022-10-16T02:48:33.616725Z",
     "shell.execute_reply": "2022-10-16T02:48:33.615991Z"
    },
    "tags": []
   },
   "outputs": [],
   "source": [
    "tcr = pd.concat([tcr_human.loc[:,\"Feature_0\":tcr_human.columns[-1]],tcr_human[['Gene', 'MHC A','V','J','Epitope']]], axis = 1)\n",
    "# tcr.head()"
   ]
  },
  {
   "cell_type": "code",
   "execution_count": null,
   "id": "3f819159-0e9a-4e64-84b4-deb80ae6db2d",
   "metadata": {},
   "outputs": [],
   "source": []
  },
  {
   "cell_type": "code",
   "execution_count": 11,
   "id": "93230fb6-4112-49e7-a560-ed9b4511962b",
   "metadata": {
    "ExecuteTime": {
     "end_time": "2022-03-14T07:54:42.336541Z",
     "start_time": "2022-03-14T07:54:42.164538Z"
    },
    "execution": {
     "iopub.execute_input": "2022-10-16T02:48:33.622359Z",
     "iopub.status.busy": "2022-10-16T02:48:33.622095Z",
     "iopub.status.idle": "2022-10-16T02:48:37.103088Z",
     "shell.execute_reply": "2022-10-16T02:48:37.102275Z"
    },
    "tags": []
   },
   "outputs": [],
   "source": [
    "X = tcr.loc[:,\"Feature_0\":\"J\"]\n",
    "y = tcr[\"Epitope\"]"
   ]
  },
  {
   "cell_type": "code",
   "execution_count": 12,
   "id": "a14d75a0-2c5d-4947-b762-0cd221722b87",
   "metadata": {
    "ExecuteTime": {
     "end_time": "2022-03-14T07:54:43.400280Z",
     "start_time": "2022-03-14T07:54:43.152075Z"
    },
    "execution": {
     "iopub.execute_input": "2022-10-16T02:48:37.108043Z",
     "iopub.status.busy": "2022-10-16T02:48:37.107813Z",
     "iopub.status.idle": "2022-10-16T02:50:19.903945Z",
     "shell.execute_reply": "2022-10-16T02:50:19.864296Z"
    },
    "tags": []
   },
   "outputs": [],
   "source": [
    "from sklearn.decomposition import PCA\n",
    "transformer = PCA(n_components=10)\n",
    "X = transformer.fit_transform(X)"
   ]
  },
  {
   "cell_type": "code",
   "execution_count": 13,
   "id": "6a2123f4-a47a-4a83-86f5-26393e9f7034",
   "metadata": {
    "execution": {
     "iopub.execute_input": "2022-10-16T02:50:20.053304Z",
     "iopub.status.busy": "2022-10-16T02:50:20.051052Z",
     "iopub.status.idle": "2022-10-16T02:50:20.096675Z",
     "shell.execute_reply": "2022-10-16T02:50:20.095196Z"
    }
   },
   "outputs": [],
   "source": [
    "# tcr_human = tcr_human[tcr_human['Epitope'].isin(['NLVPMVATV', 'GILGFVFTL', 'GLCTLVAML'])]"
   ]
  },
  {
   "cell_type": "code",
   "execution_count": 14,
   "id": "f892eef4-7b18-438f-a26b-5208fa7f71cb",
   "metadata": {
    "ExecuteTime": {
     "end_time": "2022-03-14T07:54:46.305188Z",
     "start_time": "2022-03-14T07:54:46.104811Z"
    },
    "execution": {
     "iopub.execute_input": "2022-10-16T02:50:20.106862Z",
     "iopub.status.busy": "2022-10-16T02:50:20.106386Z",
     "iopub.status.idle": "2022-10-16T02:50:20.504827Z",
     "shell.execute_reply": "2022-10-16T02:50:20.503457Z"
    },
    "tags": []
   },
   "outputs": [
    {
     "data": {
      "text/plain": [
       "GILGFVFTL    12564\n",
       "Name: Epitope, dtype: int64"
      ]
     },
     "execution_count": 14,
     "metadata": {},
     "output_type": "execute_result"
    }
   ],
   "source": [
    "#Show the highest value\n",
    "epitope_counts = y[y == 'GILGFVFTL'].value_counts()\n",
    "epitope_counts[:1]"
   ]
  },
  {
   "cell_type": "code",
   "execution_count": null,
   "id": "5862ed29-2cec-4ed6-8863-c12945d30426",
   "metadata": {},
   "outputs": [],
   "source": []
  },
  {
   "cell_type": "code",
   "execution_count": 15,
   "id": "13cdee55-49bc-42e1-9ca7-d72fbe2c2287",
   "metadata": {
    "ExecuteTime": {
     "end_time": "2022-03-14T07:54:47.241247Z",
     "start_time": "2022-03-14T07:54:47.086602Z"
    },
    "execution": {
     "iopub.execute_input": "2022-10-16T02:50:20.538910Z",
     "iopub.status.busy": "2022-10-16T02:50:20.538436Z",
     "iopub.status.idle": "2022-10-16T02:50:20.546653Z",
     "shell.execute_reply": "2022-10-16T02:50:20.545437Z"
    },
    "tags": []
   },
   "outputs": [],
   "source": [
    "target_class = epitope_counts[:1].index"
   ]
  },
  {
   "cell_type": "code",
   "execution_count": 16,
   "id": "0a2950a6-5456-4ea2-a022-9577397902eb",
   "metadata": {
    "ExecuteTime": {
     "end_time": "2022-03-14T07:54:48.191321Z",
     "start_time": "2022-03-14T07:54:48.022721Z"
    },
    "execution": {
     "iopub.execute_input": "2022-10-16T02:50:20.600581Z",
     "iopub.status.busy": "2022-10-16T02:50:20.600068Z",
     "iopub.status.idle": "2022-10-16T02:50:20.613252Z",
     "shell.execute_reply": "2022-10-16T02:50:20.612233Z"
    },
    "tags": []
   },
   "outputs": [
    {
     "data": {
      "text/plain": [
       "Index(['GILGFVFTL'], dtype='object')"
      ]
     },
     "execution_count": 16,
     "metadata": {},
     "output_type": "execute_result"
    }
   ],
   "source": [
    "target_class"
   ]
  },
  {
   "cell_type": "code",
   "execution_count": null,
   "id": "7c2c4ff0-083e-46f9-9e0e-30ee673a03d7",
   "metadata": {},
   "outputs": [],
   "source": []
  },
  {
   "cell_type": "code",
   "execution_count": 17,
   "id": "b73a6ae3-89df-4ed7-89a7-2d0db7311f7b",
   "metadata": {
    "ExecuteTime": {
     "end_time": "2022-03-14T07:54:49.115832Z",
     "start_time": "2022-03-14T07:54:48.957000Z"
    },
    "execution": {
     "iopub.execute_input": "2022-10-16T02:50:20.619507Z",
     "iopub.status.busy": "2022-10-16T02:50:20.619151Z",
     "iopub.status.idle": "2022-10-16T02:50:20.637020Z",
     "shell.execute_reply": "2022-10-16T02:50:20.635972Z"
    },
    "tags": []
   },
   "outputs": [],
   "source": [
    "def convert_target(target_raw, val):\n",
    "    result = target_raw.copy()\n",
    "    \n",
    "    for i in range(result.shape[0]):\n",
    "        if result[i] != val:\n",
    "            result[i] = 0\n",
    "\n",
    "        if result[i] == val:\n",
    "            result[i] = 1\n",
    "    \n",
    "    result1 = pd.concat((pd.DataFrame(X),pd.DataFrame(result)), axis=1)\n",
    "    \n",
    "    r1 = result1[result1['Epitope']==1].sample(n = result1[result1['Epitope']==1].shape[0], random_state=np.random.RandomState(100))\n",
    "    r2 = result1[result1['Epitope']==0].sample(n = result1[result1['Epitope']==1].shape[0], random_state=np.random.RandomState(100))\n",
    "    \n",
    "    result2 = np.concatenate((r1,r2), axis=0)\n",
    "    \n",
    "    return result2"
   ]
  },
  {
   "cell_type": "code",
   "execution_count": 18,
   "id": "8ba73e71-7ead-43c2-be0e-8444af3fe252",
   "metadata": {
    "execution": {
     "iopub.execute_input": "2022-10-16T02:50:20.641831Z",
     "iopub.status.busy": "2022-10-16T02:50:20.641490Z",
     "iopub.status.idle": "2022-10-16T02:50:23.083870Z",
     "shell.execute_reply": "2022-10-16T02:50:23.082577Z"
    }
   },
   "outputs": [
    {
     "data": {
      "application/vnd.jupyter.widget-view+json": {
       "model_id": "d59aadc83ce34522ae3070997ff777a8",
       "version_major": 2,
       "version_minor": 0
      },
      "text/plain": [
       "target:   0%|          | 0/1 [00:00<?, ?it/s]"
      ]
     },
     "metadata": {},
     "output_type": "display_data"
    }
   ],
   "source": [
    "for species in tqdm(target_class,'target'):\n",
    "    label = convert_target(y,species)\n",
    "\n",
    "\n",
    "X = label[:,:-1]\n",
    "y = label[:,-1:]"
   ]
  },
  {
   "cell_type": "code",
   "execution_count": 19,
   "id": "cb9d4190-2040-43e7-9234-abfdd73bd4f9",
   "metadata": {
    "execution": {
     "iopub.execute_input": "2022-10-16T02:50:23.093134Z",
     "iopub.status.busy": "2022-10-16T02:50:23.092818Z",
     "iopub.status.idle": "2022-10-16T02:50:23.103327Z",
     "shell.execute_reply": "2022-10-16T02:50:23.102414Z"
    }
   },
   "outputs": [
    {
     "data": {
      "text/plain": [
       "array([[-94.57064728797606, 5.0236710237862106, 0.9696270542145513, ...,\n",
       "        -0.9118893094482986, -1.9193573602909566, 1],\n",
       "       [60.8895677630272, -7.875636796187721, 2.2639932841078094, ...,\n",
       "        1.6849816997713378, 0.9842220328739506, 1],\n",
       "       [139.53810129212783, 8.632506841424856, -0.33276926144684255, ...,\n",
       "        2.2782631686592096, 1.1537266788407716, 1],\n",
       "       ...,\n",
       "       [-170.14810476486628, -11.101711020138262, -2.7122335192025475,\n",
       "        ..., 0.9866783225141247, 2.113524751310135, 0],\n",
       "       [-150.53149739193813, 19.957756227108646, 0.3032051403574205, ...,\n",
       "        -5.5383284770261465, -0.602129485865277, 0],\n",
       "       [-92.87696890647226, 1.1633378384650206, 0.871660566810083, ...,\n",
       "        -3.3037447486040183, 0.5170029394300788, 0]], dtype=object)"
      ]
     },
     "execution_count": 19,
     "metadata": {},
     "output_type": "execute_result"
    }
   ],
   "source": [
    "label"
   ]
  },
  {
   "cell_type": "code",
   "execution_count": 20,
   "id": "bf5bbedc-ccb7-4d16-a2f7-f6b65d505100",
   "metadata": {
    "execution": {
     "iopub.execute_input": "2022-10-16T02:50:23.108214Z",
     "iopub.status.busy": "2022-10-16T02:50:23.107789Z",
     "iopub.status.idle": "2022-10-16T02:50:30.262711Z",
     "shell.execute_reply": "2022-10-16T02:50:30.261590Z"
    }
   },
   "outputs": [],
   "source": [
    "#Deep Learning\n",
    "\n",
    "import numpy as np\n",
    "import tensorflow as tf\n",
    "import keras\n",
    "from tensorflow.keras import Input\n",
    "from tensorflow.keras.layers import Dense, LSTM, Conv2D, MaxPooling2D, Activation, Flatten, GlobalAveragePooling1D,concatenate,Conv1D, Dropout, MaxPool1D, Flatten, AveragePooling1D, BatchNormalization, GlobalMaxPool1D, LeakyReLU, MaxPooling1D, Bidirectional\n",
    "from tensorflow.keras.models import load_model, Model, Sequential\n",
    "from keras.callbacks import ModelCheckpoint, EarlyStopping\n",
    "from livelossplot import PlotLossesKeras\n",
    "from attention import Attention\n",
    "from tensorflow.keras import regularizers\n",
    "from sklearn.model_selection import KFold \n",
    "\n",
    "\n",
    "import os"
   ]
  },
  {
   "cell_type": "code",
   "execution_count": 21,
   "id": "eba27ec0-2211-4683-90cd-1607054ba7f4",
   "metadata": {
    "execution": {
     "iopub.execute_input": "2022-10-16T02:50:30.269234Z",
     "iopub.status.busy": "2022-10-16T02:50:30.268442Z",
     "iopub.status.idle": "2022-10-16T02:50:32.007291Z",
     "shell.execute_reply": "2022-10-16T02:50:32.006255Z"
    }
   },
   "outputs": [
    {
     "name": "stdout",
     "output_type": "stream",
     "text": [
      "[PhysicalDevice(name='/physical_device:GPU:0', device_type='GPU')]\n",
      "tf.keras code in this scope will run on GPU\n"
     ]
    },
    {
     "name": "stderr",
     "output_type": "stream",
     "text": [
      "2022-10-16 10:50:30.401785: I tensorflow/core/platform/cpu_feature_guard.cc:151] This TensorFlow binary is optimized with oneAPI Deep Neural Network Library (oneDNN) to use the following CPU instructions in performance-critical operations:  AVX2 FMA\n",
      "To enable them in other operations, rebuild TensorFlow with the appropriate compiler flags.\n",
      "2022-10-16 10:50:31.994496: I tensorflow/core/common_runtime/gpu/gpu_device.cc:1525] Created device /job:localhost/replica:0/task:0/device:GPU:0 with 10342 MB memory:  -> device: 0, name: GeForce GTX 1080 Ti, pci bus id: 0000:02:00.0, compute capability: 6.1\n"
     ]
    }
   ],
   "source": [
    "gpus = tf.config.experimental.list_physical_devices('GPU')\n",
    "print(gpus)\n",
    "for gpu in gpus:\n",
    "    tf.config.experimental.set_memory_growth(gpu, True)\n",
    "\n",
    "if gpus:\n",
    "    tf.config.set_visible_devices(gpus[0], 'GPU')\n",
    "\n",
    "with tf.device(\"gpu:0\"):\n",
    "   print(\"tf.keras code in this scope will run on GPU\")"
   ]
  },
  {
   "cell_type": "code",
   "execution_count": 22,
   "id": "9fe92090-bb93-4695-907e-c2df3f732c71",
   "metadata": {
    "execution": {
     "iopub.execute_input": "2022-10-16T02:50:32.017760Z",
     "iopub.status.busy": "2022-10-16T02:50:32.017335Z",
     "iopub.status.idle": "2022-10-16T02:50:32.041586Z",
     "shell.execute_reply": "2022-10-16T02:50:32.040869Z"
    }
   },
   "outputs": [
    {
     "name": "stdout",
     "output_type": "stream",
     "text": [
      "2\n"
     ]
    }
   ],
   "source": [
    "n_classes = len(np.unique(y))\n",
    "print(n_classes)"
   ]
  },
  {
   "cell_type": "code",
   "execution_count": 23,
   "id": "ac8bd934-3619-4523-b73a-358c786b2723",
   "metadata": {
    "execution": {
     "iopub.execute_input": "2022-10-16T02:50:32.047546Z",
     "iopub.status.busy": "2022-10-16T02:50:32.047223Z",
     "iopub.status.idle": "2022-10-16T02:50:32.068399Z",
     "shell.execute_reply": "2022-10-16T02:50:32.067577Z"
    }
   },
   "outputs": [
    {
     "data": {
      "text/plain": [
       "(array([0, 1], dtype=object), array([12564, 12564]))"
      ]
     },
     "execution_count": 23,
     "metadata": {},
     "output_type": "execute_result"
    }
   ],
   "source": [
    "np.unique(y, return_counts=True)"
   ]
  },
  {
   "cell_type": "code",
   "execution_count": 24,
   "id": "821098a8-0381-4f7b-99cc-b4caa455254d",
   "metadata": {
    "execution": {
     "iopub.execute_input": "2022-10-16T02:50:32.073201Z",
     "iopub.status.busy": "2022-10-16T02:50:32.072915Z",
     "iopub.status.idle": "2022-10-16T02:50:32.103537Z",
     "shell.execute_reply": "2022-10-16T02:50:32.102825Z"
    }
   },
   "outputs": [
    {
     "name": "stdout",
     "output_type": "stream",
     "text": [
      "2\n"
     ]
    }
   ],
   "source": [
    "n_classes = len(np.unique(y))\n",
    "print(n_classes)\n",
    "\n",
    "# X = X_new\n",
    "y = y.reshape(-1,1)\n",
    "\n",
    "from sklearn.preprocessing import OneHotEncoder\n",
    "enc = OneHotEncoder(handle_unknown='ignore')\n",
    "enc.fit(y)\n",
    "y = enc.transform(y).toarray()"
   ]
  },
  {
   "cell_type": "code",
   "execution_count": null,
   "id": "54a20151-3835-4380-a6cf-6081dfad59cc",
   "metadata": {},
   "outputs": [],
   "source": []
  },
  {
   "cell_type": "code",
   "execution_count": 25,
   "id": "f9d9a3cf-92ec-414f-ac4a-66c5e55e04b6",
   "metadata": {
    "execution": {
     "iopub.execute_input": "2022-10-16T02:50:32.108911Z",
     "iopub.status.busy": "2022-10-16T02:50:32.108625Z",
     "iopub.status.idle": "2022-10-16T02:50:32.116072Z",
     "shell.execute_reply": "2022-10-16T02:50:32.115124Z"
    }
   },
   "outputs": [],
   "source": [
    "kf = KFold(n_splits=5, shuffle=True)\n",
    "kf.get_n_splits(X,y)\n",
    "\n",
    "precision_val = []\n",
    "recall_val = []\n",
    "specificity_val = []\n",
    "sensitivity_val = []\n",
    "f1score_val = []\n",
    "accuracy_val = []\n",
    "training_time = []\n",
    "testing_time = []\n",
    "testing_size = []\n",
    "auc_val = []\n",
    "\n",
    "randomIter = kf.split(X)"
   ]
  },
  {
   "cell_type": "code",
   "execution_count": 26,
   "id": "1d7c23be-332e-437d-a6ff-83fdeeb9cdfa",
   "metadata": {
    "execution": {
     "iopub.execute_input": "2022-10-16T02:50:32.119970Z",
     "iopub.status.busy": "2022-10-16T02:50:32.119613Z",
     "iopub.status.idle": "2022-10-16T02:50:32.154834Z",
     "shell.execute_reply": "2022-10-16T02:50:32.154096Z"
    }
   },
   "outputs": [
    {
     "name": "stdout",
     "output_type": "stream",
     "text": [
      "(20102, 10, 1) (5026, 10, 1)\n"
     ]
    }
   ],
   "source": [
    "train_idx, test_idx = next(randomIter)\n",
    "X_train, X_test = X[train_idx], X[test_idx]\n",
    "y_train, y_test = y[train_idx], y[test_idx]\n",
    "\n",
    "        \n",
    "from sklearn.preprocessing import StandardScaler\n",
    "scaler = StandardScaler()\n",
    "scaler.fit(X_train)\n",
    "X_train = scaler.transform(X_train)\n",
    "X_test = scaler.transform(X_test)\n",
    "\n",
    "X_train = X_train.reshape(X_train.shape[0],X_train.shape[1],1)\n",
    "X_test = X_test.reshape(X_test.shape[0],X_test.shape[1],1)\n",
    "\n",
    "print(X_train.shape, X_test.shape)"
   ]
  },
  {
   "cell_type": "code",
   "execution_count": null,
   "id": "0cff918e-9a40-4693-8444-a8af4317d9d2",
   "metadata": {},
   "outputs": [],
   "source": []
  },
  {
   "cell_type": "code",
   "execution_count": null,
   "id": "b684eb5f-2fd6-4992-949e-45cd718eb2d3",
   "metadata": {},
   "outputs": [],
   "source": []
  },
  {
   "cell_type": "code",
   "execution_count": 27,
   "id": "c97db4df-6372-4595-88a1-e9f55f02fcf0",
   "metadata": {
    "execution": {
     "iopub.execute_input": "2022-10-16T02:50:32.161842Z",
     "iopub.status.busy": "2022-10-16T02:50:32.161545Z",
     "iopub.status.idle": "2022-10-16T02:50:32.174386Z",
     "shell.execute_reply": "2022-10-16T02:50:32.173631Z"
    }
   },
   "outputs": [],
   "source": [
    "from tensorflow.keras import layers\n",
    "\n",
    "\n",
    "def transformer_encoder(inputs, head_size, num_heads, ff_dim, dropout=0):\n",
    "    # Normalization and Attention\n",
    "    x = layers.MultiHeadAttention(\n",
    "        key_dim=head_size, num_heads=num_heads, dropout=dropout\n",
    "    )(inputs, inputs)\n",
    "    x = layers.Dropout(dropout)(x)\n",
    "    x = layers.LayerNormalization(epsilon=1e-6)(x)\n",
    "    res = x + inputs\n",
    "\n",
    "    # Feed Forward Part\n",
    "    x = layers.Conv1D(filters=ff_dim, kernel_size=1, activation=\"relu\")(res)\n",
    "    x = layers.Dropout(dropout)(x)\n",
    "    x = layers.Conv1D(filters=inputs.shape[-1], kernel_size=1)(x)\n",
    "    x = layers.LayerNormalization(epsilon=1e-6)(x)\n",
    "    return x + res\n",
    "\n",
    "def build_model(\n",
    "    input_tensor,\n",
    "    head_size,\n",
    "    num_heads,\n",
    "    ff_dim,\n",
    "    num_transformer_blocks,\n",
    "    mlp_units,\n",
    "    dropout=0,\n",
    "    mlp_dropout=0,\n",
    "):\n",
    "    inputs = input_tensor\n",
    "    x = inputs\n",
    "    for _ in range(num_transformer_blocks):\n",
    "        x = transformer_encoder(x, head_size, num_heads, ff_dim, dropout)\n",
    "\n",
    "    x = layers.GlobalAveragePooling1D(data_format=\"channels_first\")(x)\n",
    "    for dim in mlp_units:\n",
    "        x = layers.Dense(dim, activation=\"relu\")(x)\n",
    "        x = layers.Dropout(mlp_dropout)(x)\n",
    "    outputs = layers.Dense(n_classes, activation=\"relu\")(x)\n",
    "    return keras.Model(inputs, outputs)\n"
   ]
  },
  {
   "cell_type": "code",
   "execution_count": 28,
   "id": "5aaee3c2-4e12-4a1c-8e09-1d0e005bfc77",
   "metadata": {
    "execution": {
     "iopub.execute_input": "2022-10-16T02:50:32.179558Z",
     "iopub.status.busy": "2022-10-16T02:50:32.179225Z",
     "iopub.status.idle": "2022-10-16T02:50:32.192072Z",
     "shell.execute_reply": "2022-10-16T02:50:32.191332Z"
    }
   },
   "outputs": [],
   "source": [
    "def run_model(X_train, X_test, y_train, y_test):\n",
    "    #Watch this\n",
    "    # opt = tf.keras.optimizers.SGD(learning_rate=0.0001)\n",
    "    epoch = 1000\n",
    "\n",
    "    lr = 0.0001\n",
    "    decay_rate = lr / epoch\n",
    "    momentum = 0.8\n",
    "    sgd = tf.keras.optimizers.SGD(learning_rate=lr, momentum=momentum, decay=decay_rate, nesterov=False) # Nesterov = False\n",
    "    adam = tf.keras.optimizers.Adam(learning_rate=lr, beta_1=decay_rate, beta_2=decay_rate*decay_rate, epsilon=1e-07, amsgrad=False)\n",
    "    checkpoint = ModelCheckpoint(\"AADIP_GILG_TR.hdf5\", monitor='loss', verbose=0, save_best_only=True, mode='auto', period=1)\n",
    "\n",
    "\n",
    "    cdr_in = Input(shape=(X_train.shape[1], 1))\n",
    "\n",
    "    # Transformer\n",
    "    transformer = build_model(\n",
    "      cdr_in,\n",
    "      head_size=256,\n",
    "      num_heads=4,\n",
    "      ff_dim=4,\n",
    "      num_transformer_blocks=4,\n",
    "      mlp_units=[128],\n",
    "      mlp_dropout=0.2,\n",
    "      dropout=0.1,\n",
    "    )\n",
    "\n",
    "    # Convolutional\n",
    "    # conv = Conv1D(8, kernel_size = 1)(cdr_in)\n",
    "    # conv = Conv1D(16, kernel_size = 1, groups = 2)(conv)\n",
    "    # conv = Conv1D(4, kernel_size = 1)(conv)\n",
    "\n",
    "    # conv = MaxPooling1D(pool_size=1)(conv)\n",
    "    # conv = Flatten()(conv)\n",
    "    # conv_out = Dense(8, activation='relu')(conv)\n",
    "    # conv_model = Model(cdr_in, conv_out)\n",
    "\n",
    "    # Dense\n",
    "    # merged = concatenate([transformer.output])\n",
    "    dense = BatchNormalization()(transformer.output)\n",
    "\n",
    "    dense = Dense(16,activation=\"LeakyReLU\")(dense)\n",
    "    dense = Dense(64,activation=\"LeakyReLU\")(dense)\n",
    "    dense = Dense(16,activation=\"LeakyReLU\")(dense)\n",
    "    dense = BatchNormalization()(dense)\n",
    "\n",
    "    # model.add(Dropout(0.3))\n",
    "    dense_out = Dense(n_classes, activation=\"softmax\")(dense)\n",
    "\n",
    "    # combine\n",
    "    model = Model(cdr_in, dense_out)\n",
    "\n",
    "    model.summary()\n",
    "\n",
    "    # To my experience, the Stocastic Gradient Descent Optimizer works the best. Adam optimizer also works but not as good as SGD\n",
    "    optimizer = adam\n",
    "    model.compile(loss=tf.keras.losses.CategoricalCrossentropy(), optimizer=optimizer, metrics=['accuracy', 'AUC'])\n",
    "    history = model.fit(X_train, y_train,  batch_size=128, epochs=epoch, validation_data=(X_test, y_test),callbacks=[checkpoint,PlotLossesKeras(),EarlyStopping(monitor='val_loss', patience=10)],verbose=1)\n",
    "\n",
    "    return model"
   ]
  },
  {
   "cell_type": "code",
   "execution_count": null,
   "id": "8b60147d-412b-49be-b9df-d52369f2dc56",
   "metadata": {},
   "outputs": [],
   "source": []
  },
  {
   "cell_type": "code",
   "execution_count": 29,
   "id": "2a831f9d-df63-45d2-be2d-915070a6e047",
   "metadata": {
    "execution": {
     "iopub.execute_input": "2022-10-16T02:50:32.197292Z",
     "iopub.status.busy": "2022-10-16T02:50:32.197002Z",
     "iopub.status.idle": "2022-10-16T02:58:18.033772Z",
     "shell.execute_reply": "2022-10-16T02:58:18.033108Z"
    }
   },
   "outputs": [
    {
     "data": {
      "image/png": "[encoded data removed]",
      "text/plain": [
       "<Figure size 864x864 with 4 Axes>"
      ]
     },
     "metadata": {
      "needs_background": "light"
     },
     "output_type": "display_data"
    },
    {
     "name": "stdout",
     "output_type": "stream",
     "text": [
      "accuracy\n",
      "\ttraining         \t (min:    0.542, max:    0.813, cur:    0.811)\n",
      "\tvalidation       \t (min:    0.608, max:    0.817, cur:    0.815)\n",
      "auc\n",
      "\ttraining         \t (min:    0.550, max:    0.870, cur:    0.870)\n",
      "\tvalidation       \t (min:    0.641, max:    0.873, cur:    0.871)\n",
      "Loss\n",
      "\ttraining         \t (min:    0.437, max:    0.763, cur:    0.438)\n",
      "\tvalidation       \t (min:    0.433, max:    0.668, cur:    0.433)\n",
      "158/158 [==============================] - 5s 31ms/step - loss: 0.4376 - accuracy: 0.8112 - auc: 0.8697 - val_loss: 0.4327 - val_accuracy: 0.8148 - val_auc: 0.8713\n"
     ]
    }
   ],
   "source": [
    "#Fold 1\n",
    "start = time.time()\n",
    "model = run_model(X_train, X_test, y_train, y_test)\n",
    "end = time.time()\n",
    "training_time.append(end-start)"
   ]
  },
  {
   "cell_type": "code",
   "execution_count": 30,
   "id": "6279ddd9-0939-42e0-bbde-595b72fe244d",
   "metadata": {
    "execution": {
     "iopub.execute_input": "2022-10-16T02:58:18.043546Z",
     "iopub.status.busy": "2022-10-16T02:58:18.043204Z",
     "iopub.status.idle": "2022-10-16T02:58:18.046726Z",
     "shell.execute_reply": "2022-10-16T02:58:18.046028Z"
    }
   },
   "outputs": [],
   "source": [
    "# model.save('model_fusion_TransformerConv')"
   ]
  },
  {
   "cell_type": "code",
   "execution_count": 31,
   "id": "d247b802-0164-4c07-b517-f18d4edc03cd",
   "metadata": {
    "execution": {
     "iopub.execute_input": "2022-10-16T02:58:18.050911Z",
     "iopub.status.busy": "2022-10-16T02:58:18.050551Z",
     "iopub.status.idle": "2022-10-16T02:58:18.054419Z",
     "shell.execute_reply": "2022-10-16T02:58:18.053625Z"
    }
   },
   "outputs": [],
   "source": [
    "# pd.DataFrame(X_test.reshape(X_test.shape[0], X_test.shape[1])).to_csv(\"GILG_Xtest.csv\", index=False)\n",
    "# pd.DataFrame(y_test).to_csv(\"GILG_ytest.csv\", index=False)"
   ]
  },
  {
   "cell_type": "code",
   "execution_count": null,
   "id": "e041091b-99df-4529-9a3b-53af20392236",
   "metadata": {},
   "outputs": [],
   "source": []
  },
  {
   "cell_type": "code",
   "execution_count": null,
   "id": "84a95c0c-bf8e-4d4e-b016-824d20fbc0ea",
   "metadata": {},
   "outputs": [],
   "source": []
  },
  {
   "cell_type": "code",
   "execution_count": 32,
   "id": "5e9839c3-b051-413d-bcc6-8767fbe7f614",
   "metadata": {
    "execution": {
     "iopub.execute_input": "2022-10-16T02:58:18.059118Z",
     "iopub.status.busy": "2022-10-16T02:58:18.058744Z",
     "iopub.status.idle": "2022-10-16T02:58:19.474576Z",
     "shell.execute_reply": "2022-10-16T02:58:19.473497Z"
    }
   },
   "outputs": [],
   "source": [
    "start = time.time()\n",
    "y_pred = model.predict(X_test)\n",
    "end = time.time()\n",
    "testing_time.append(end-start)\n",
    "testing_size.append(X_test.shape)\n",
    "\n",
    "y_pred = np.argmax(y_pred, axis=1)\n",
    "y_true = np.argmax(y_test, axis=1)\n",
    "\n",
    "precision_val.append(precision_score(y_true, y_pred, average='weighted'))\n",
    "recall_val.append(recall_score(y_true, y_pred, average='weighted'))\n",
    "auc_val.append(roc_auc_score(y_true, y_pred, average='weighted'))\n",
    "\n",
    "cm = multilabel_confusion_matrix(y_true, y_pred)\n",
    "\n",
    "a = []\n",
    "\n",
    "for i in range(len(cm)):\n",
    "    a.append(cm[i].ravel())\n",
    "\n",
    "tp, fn, fp, tn =np.sum(np.array(a), axis = 0)\n",
    "\n",
    "specificity_val.append(tn / (tn+fp)) #specificity\n",
    "sensitivity_val.append(tp / (tp+fn)) #sensitivity \n",
    "\n",
    "f1score_val.append(f1_score(y_true, y_pred, average='weighted'))\n",
    "accuracy_val.append(accuracy_score(y_true, y_pred))\n"
   ]
  },
  {
   "cell_type": "code",
   "execution_count": null,
   "id": "1a7dd2f5-5fba-46be-ae28-c7e78f7eac9a",
   "metadata": {},
   "outputs": [],
   "source": []
  },
  {
   "cell_type": "code",
   "execution_count": 33,
   "id": "0df741c5-923f-4eb3-8109-2b905b409249",
   "metadata": {
    "execution": {
     "iopub.execute_input": "2022-10-16T02:58:19.480849Z",
     "iopub.status.busy": "2022-10-16T02:58:19.480552Z",
     "iopub.status.idle": "2022-10-16T02:58:19.514409Z",
     "shell.execute_reply": "2022-10-16T02:58:19.513538Z"
    }
   },
   "outputs": [
    {
     "name": "stdout",
     "output_type": "stream",
     "text": [
      "(20102, 10, 1) (5026, 10, 1)\n"
     ]
    }
   ],
   "source": [
    "train_idx, test_idx = next(randomIter)\n",
    "X_train, X_test = X[train_idx], X[test_idx]\n",
    "y_train, y_test = y[train_idx], y[test_idx]\n",
    "        \n",
    "from sklearn.preprocessing import StandardScaler\n",
    "scaler = StandardScaler()\n",
    "scaler.fit(X_train)\n",
    "X_train = scaler.transform(X_train)\n",
    "X_test = scaler.transform(X_test)\n",
    "\n",
    "X_train = X_train.reshape(X_train.shape[0],X_train.shape[1],1)\n",
    "X_test = X_test.reshape(X_test.shape[0],X_test.shape[1],1)\n",
    "\n",
    "print(X_train.shape, X_test.shape)"
   ]
  },
  {
   "cell_type": "code",
   "execution_count": null,
   "id": "295f4488-81bd-49e2-a5da-efe048eb61e8",
   "metadata": {},
   "outputs": [],
   "source": []
  },
  {
   "cell_type": "code",
   "execution_count": 34,
   "id": "7119be90-af2e-4c44-893e-73f6ecc162d2",
   "metadata": {
    "execution": {
     "iopub.execute_input": "2022-10-16T02:58:19.520301Z",
     "iopub.status.busy": "2022-10-16T02:58:19.519986Z",
     "iopub.status.idle": "2022-10-16T03:19:15.666572Z",
     "shell.execute_reply": "2022-10-16T03:19:15.665908Z"
    }
   },
   "outputs": [
    {
     "data": {
      "image/png": "[encoded data removed]",
      "text/plain": [
       "<Figure size 864x864 with 4 Axes>"
      ]
     },
     "metadata": {
      "needs_background": "light"
     },
     "output_type": "display_data"
    },
    {
     "name": "stdout",
     "output_type": "stream",
     "text": [
      "accuracy\n",
      "\ttraining         \t (min:    0.590, max:    0.818, cur:    0.817)\n",
      "\tvalidation       \t (min:    0.562, max:    0.817, cur:    0.815)\n",
      "auc\n",
      "\ttraining         \t (min:    0.626, max:    0.876, cur:    0.876)\n",
      "\tvalidation       \t (min:    0.642, max:    0.876, cur:    0.876)\n",
      "Loss\n",
      "\ttraining         \t (min:    0.428, max:    0.691, cur:    0.428)\n",
      "\tvalidation       \t (min:    0.429, max:    0.671, cur:    0.430)\n",
      "158/158 [==============================] - 5s 31ms/step - loss: 0.4283 - accuracy: 0.8171 - auc: 0.8757 - val_loss: 0.4299 - val_accuracy: 0.8148 - val_auc: 0.8759\n"
     ]
    }
   ],
   "source": [
    "#Fold 2\n",
    "start = time.time()\n",
    "model = run_model(X_train, X_test, y_train, y_test)\n",
    "end = time.time()\n",
    "training_time.append(end-start)"
   ]
  },
  {
   "cell_type": "code",
   "execution_count": 35,
   "id": "9e491ca0-9b1c-4a43-b8a7-3924d9ef400c",
   "metadata": {
    "execution": {
     "iopub.execute_input": "2022-10-16T03:19:15.669908Z",
     "iopub.status.busy": "2022-10-16T03:19:15.669658Z",
     "iopub.status.idle": "2022-10-16T03:19:17.053086Z",
     "shell.execute_reply": "2022-10-16T03:19:17.051957Z"
    }
   },
   "outputs": [],
   "source": [
    "start = time.time()\n",
    "y_pred = model.predict(X_test)\n",
    "end = time.time()\n",
    "testing_time.append(end-start)\n",
    "testing_size.append(X_test.shape)\n",
    "\n",
    "y_pred = np.argmax(y_pred, axis=1)\n",
    "y_true = np.argmax(y_test, axis=1)\n",
    "\n",
    "precision_val.append(precision_score(y_true, y_pred, average='weighted'))\n",
    "recall_val.append(recall_score(y_true, y_pred, average='weighted'))\n",
    "auc_val.append(roc_auc_score(y_true, y_pred, average='weighted'))\n",
    "\n",
    "\n",
    "cm = multilabel_confusion_matrix(y_true, y_pred)\n",
    "\n",
    "a = []\n",
    "\n",
    "for i in range(len(cm)):\n",
    "    a.append(cm[i].ravel())\n",
    "\n",
    "tp, fn, fp, tn =np.sum(np.array(a), axis = 0)\n",
    "\n",
    "specificity_val.append(tn / (tn+fp)) #specificity\n",
    "sensitivity_val.append(tp / (tp+fn)) #sensitivity \n",
    "\n",
    "f1score_val.append(f1_score(y_true, y_pred, average='weighted'))\n",
    "accuracy_val.append(accuracy_score(y_true, y_pred))"
   ]
  },
  {
   "cell_type": "code",
   "execution_count": null,
   "id": "02c21ecf-ac16-4d01-9d10-480aafbf4393",
   "metadata": {},
   "outputs": [],
   "source": []
  },
  {
   "cell_type": "code",
   "execution_count": 36,
   "id": "f2da1b29-2548-4381-bdf4-1d904a359706",
   "metadata": {
    "execution": {
     "iopub.execute_input": "2022-10-16T03:19:17.057929Z",
     "iopub.status.busy": "2022-10-16T03:19:17.057611Z",
     "iopub.status.idle": "2022-10-16T03:19:17.092407Z",
     "shell.execute_reply": "2022-10-16T03:19:17.091300Z"
    }
   },
   "outputs": [
    {
     "name": "stdout",
     "output_type": "stream",
     "text": [
      "(20102, 10, 1) (5026, 10, 1)\n"
     ]
    }
   ],
   "source": [
    "train_idx, test_idx = next(randomIter)\n",
    "X_train, X_test = X[train_idx], X[test_idx]\n",
    "y_train, y_test = y[train_idx], y[test_idx]\n",
    "        \n",
    "from sklearn.preprocessing import StandardScaler\n",
    "scaler = StandardScaler()\n",
    "scaler.fit(X_train)\n",
    "X_train = scaler.transform(X_train)\n",
    "X_test = scaler.transform(X_test)\n",
    "\n",
    "X_train = X_train.reshape(X_train.shape[0],X_train.shape[1],1)\n",
    "X_test = X_test.reshape(X_test.shape[0],X_test.shape[1],1)\n",
    "\n",
    "print(X_train.shape, X_test.shape)"
   ]
  },
  {
   "cell_type": "code",
   "execution_count": null,
   "id": "4d138b7d-4022-43a1-8e15-970d24daebad",
   "metadata": {},
   "outputs": [],
   "source": []
  },
  {
   "cell_type": "code",
   "execution_count": 37,
   "id": "e2fd700b-f65f-412e-8792-7f0288ec7f32",
   "metadata": {
    "execution": {
     "iopub.execute_input": "2022-10-16T03:19:17.096746Z",
     "iopub.status.busy": "2022-10-16T03:19:17.096445Z",
     "iopub.status.idle": "2022-10-16T03:34:51.804089Z",
     "shell.execute_reply": "2022-10-16T03:34:51.803042Z"
    }
   },
   "outputs": [
    {
     "data": {
      "image/png": "[encoded data removed]",
      "text/plain": [
       "<Figure size 864x864 with 4 Axes>"
      ]
     },
     "metadata": {
      "needs_background": "light"
     },
     "output_type": "display_data"
    },
    {
     "name": "stdout",
     "output_type": "stream",
     "text": [
      "accuracy\n",
      "\ttraining         \t (min:    0.565, max:    0.809, cur:    0.806)\n",
      "\tvalidation       \t (min:    0.503, max:    0.813, cur:    0.812)\n",
      "auc\n",
      "\ttraining         \t (min:    0.596, max:    0.861, cur:    0.858)\n",
      "\tvalidation       \t (min:    0.617, max:    0.867, cur:    0.867)\n",
      "Loss\n",
      "\ttraining         \t (min:    0.445, max:    0.678, cur:    0.449)\n",
      "\tvalidation       \t (min:    0.435, max:    0.684, cur:    0.436)\n",
      "158/158 [==============================] - 5s 31ms/step - loss: 0.4487 - accuracy: 0.8061 - auc: 0.8582 - val_loss: 0.4363 - val_accuracy: 0.8124 - val_auc: 0.8665\n"
     ]
    }
   ],
   "source": [
    "#Fold 3\n",
    "start = time.time()\n",
    "model = run_model(X_train, X_test, y_train, y_test)\n",
    "end = time.time()\n",
    "training_time.append(end-start)"
   ]
  },
  {
   "cell_type": "code",
   "execution_count": null,
   "id": "5f7960ec-065c-4be2-8652-8860939da9ff",
   "metadata": {},
   "outputs": [],
   "source": []
  },
  {
   "cell_type": "code",
   "execution_count": 38,
   "id": "7a5aa616-3b7b-4585-8e2f-531edde59db7",
   "metadata": {
    "execution": {
     "iopub.execute_input": "2022-10-16T03:34:51.814774Z",
     "iopub.status.busy": "2022-10-16T03:34:51.814373Z",
     "iopub.status.idle": "2022-10-16T03:34:53.529199Z",
     "shell.execute_reply": "2022-10-16T03:34:53.528209Z"
    }
   },
   "outputs": [],
   "source": [
    "start = time.time()\n",
    "y_pred = model.predict(X_test)\n",
    "end = time.time()\n",
    "testing_time.append(end-start)\n",
    "testing_size.append(X_test.shape)\n",
    "\n",
    "y_pred = np.argmax(y_pred, axis=1)\n",
    "y_true = np.argmax(y_test, axis=1)\n",
    "\n",
    "precision_val.append(precision_score(y_true, y_pred, average='weighted'))\n",
    "recall_val.append(recall_score(y_true, y_pred, average='weighted'))\n",
    "auc_val.append(roc_auc_score(y_true, y_pred, average='weighted'))\n",
    "\n",
    "\n",
    "cm = multilabel_confusion_matrix(y_true, y_pred)\n",
    "\n",
    "a = []\n",
    "\n",
    "for i in range(len(cm)):\n",
    "    a.append(cm[i].ravel())\n",
    "\n",
    "tp, fn, fp, tn =np.sum(np.array(a), axis = 0)\n",
    "\n",
    "specificity_val.append(tn / (tn+fp)) #specificity\n",
    "sensitivity_val.append(tp / (tp+fn)) #sensitivity \n",
    "\n",
    "f1score_val.append(f1_score(y_true, y_pred, average='weighted'))\n",
    "accuracy_val.append(accuracy_score(y_true, y_pred))"
   ]
  },
  {
   "cell_type": "code",
   "execution_count": null,
   "id": "1409452b-cf0b-44fd-84f5-1c6c380d22cd",
   "metadata": {},
   "outputs": [],
   "source": []
  },
  {
   "cell_type": "code",
   "execution_count": 39,
   "id": "e08041b9-4cc1-4b3a-afa8-94d3a9c82d39",
   "metadata": {
    "execution": {
     "iopub.execute_input": "2022-10-16T03:34:53.541088Z",
     "iopub.status.busy": "2022-10-16T03:34:53.540653Z",
     "iopub.status.idle": "2022-10-16T03:34:53.577679Z",
     "shell.execute_reply": "2022-10-16T03:34:53.576251Z"
    }
   },
   "outputs": [
    {
     "name": "stdout",
     "output_type": "stream",
     "text": [
      "(20103, 10, 1) (5025, 10, 1)\n"
     ]
    }
   ],
   "source": [
    "train_idx, test_idx = next(randomIter)\n",
    "X_train, X_test = X[train_idx], X[test_idx]\n",
    "y_train, y_test = y[train_idx], y[test_idx]\n",
    "        \n",
    "from sklearn.preprocessing import StandardScaler\n",
    "scaler = StandardScaler()\n",
    "scaler.fit(X_train)\n",
    "X_train = scaler.transform(X_train)\n",
    "X_test = scaler.transform(X_test)\n",
    "\n",
    "X_train = X_train.reshape(X_train.shape[0],X_train.shape[1],1)\n",
    "X_test = X_test.reshape(X_test.shape[0],X_test.shape[1],1)\n",
    "\n",
    "print(X_train.shape, X_test.shape)"
   ]
  },
  {
   "cell_type": "code",
   "execution_count": null,
   "id": "16453645-39a0-4389-bef0-49540cd41ae3",
   "metadata": {},
   "outputs": [],
   "source": []
  },
  {
   "cell_type": "code",
   "execution_count": 40,
   "id": "b5a8cc39-e773-480b-954a-8c966e857dd2",
   "metadata": {
    "execution": {
     "iopub.execute_input": "2022-10-16T03:34:53.583142Z",
     "iopub.status.busy": "2022-10-16T03:34:53.582608Z",
     "iopub.status.idle": "2022-10-16T03:50:02.912313Z",
     "shell.execute_reply": "2022-10-16T03:50:02.911636Z"
    }
   },
   "outputs": [
    {
     "data": {
      "image/png": "[encoded data removed]",
      "text/plain": [
       "<Figure size 864x864 with 4 Axes>"
      ]
     },
     "metadata": {
      "needs_background": "light"
     },
     "output_type": "display_data"
    },
    {
     "name": "stdout",
     "output_type": "stream",
     "text": [
      "accuracy\n",
      "\ttraining         \t (min:    0.592, max:    0.813, cur:    0.812)\n",
      "\tvalidation       \t (min:    0.699, max:    0.808, cur:    0.807)\n",
      "auc\n",
      "\ttraining         \t (min:    0.614, max:    0.868, cur:    0.867)\n",
      "\tvalidation       \t (min:    0.736, max:    0.868, cur:    0.865)\n",
      "Loss\n",
      "\ttraining         \t (min:    0.441, max:    0.693, cur:    0.441)\n",
      "\tvalidation       \t (min:    0.441, max:    0.665, cur:    0.444)\n",
      "158/158 [==============================] - 5s 30ms/step - loss: 0.4407 - accuracy: 0.8123 - auc: 0.8673 - val_loss: 0.4439 - val_accuracy: 0.8066 - val_auc: 0.8652\n"
     ]
    }
   ],
   "source": [
    "#Fold 4\n",
    "start = time.time()\n",
    "model = run_model(X_train, X_test, y_train, y_test)\n",
    "end = time.time()\n",
    "training_time.append(end-start)"
   ]
  },
  {
   "cell_type": "code",
   "execution_count": 41,
   "id": "c4f924ad-9e74-4447-9d24-38bf67f968ee",
   "metadata": {
    "execution": {
     "iopub.execute_input": "2022-10-16T03:50:02.917489Z",
     "iopub.status.busy": "2022-10-16T03:50:02.917216Z",
     "iopub.status.idle": "2022-10-16T03:50:04.253018Z",
     "shell.execute_reply": "2022-10-16T03:50:04.251899Z"
    }
   },
   "outputs": [],
   "source": [
    "start = time.time()\n",
    "y_pred = model.predict(X_test)\n",
    "end = time.time()\n",
    "testing_time.append(end-start)\n",
    "testing_size.append(X_test.shape)\n",
    "\n",
    "y_pred = np.argmax(y_pred, axis=1)\n",
    "y_true = np.argmax(y_test, axis=1)\n",
    "\n",
    "precision_val.append(precision_score(y_true, y_pred, average='weighted'))\n",
    "recall_val.append(recall_score(y_true, y_pred, average='weighted'))\n",
    "auc_val.append(roc_auc_score(y_true, y_pred, average='weighted'))\n",
    "\n",
    "\n",
    "cm = multilabel_confusion_matrix(y_true, y_pred)\n",
    "\n",
    "a = []\n",
    "\n",
    "for i in range(len(cm)):\n",
    "    a.append(cm[i].ravel())\n",
    "\n",
    "tp, fn, fp, tn =np.sum(np.array(a), axis = 0)\n",
    "\n",
    "specificity_val.append(tn / (tn+fp)) #specificity\n",
    "sensitivity_val.append(tp / (tp+fn)) #sensitivity \n",
    "\n",
    "f1score_val.append(f1_score(y_true, y_pred, average='weighted'))\n",
    "accuracy_val.append(accuracy_score(y_true, y_pred))"
   ]
  },
  {
   "cell_type": "code",
   "execution_count": null,
   "id": "64953395-2b9d-4168-8efb-77efa7cc0a12",
   "metadata": {},
   "outputs": [],
   "source": []
  },
  {
   "cell_type": "code",
   "execution_count": 42,
   "id": "e86d4b4c-b65c-4802-8e57-2acdda6b8bd7",
   "metadata": {
    "execution": {
     "iopub.execute_input": "2022-10-16T03:50:04.259120Z",
     "iopub.status.busy": "2022-10-16T03:50:04.258804Z",
     "iopub.status.idle": "2022-10-16T03:50:04.291851Z",
     "shell.execute_reply": "2022-10-16T03:50:04.291040Z"
    }
   },
   "outputs": [
    {
     "name": "stdout",
     "output_type": "stream",
     "text": [
      "(20103, 10, 1) (5025, 10, 1)\n"
     ]
    }
   ],
   "source": [
    "train_idx, test_idx = next(randomIter)\n",
    "X_train, X_test = X[train_idx], X[test_idx]\n",
    "y_train, y_test = y[train_idx], y[test_idx]\n",
    "        \n",
    "from sklearn.preprocessing import StandardScaler\n",
    "scaler = StandardScaler()\n",
    "scaler.fit(X_train)\n",
    "X_train = scaler.transform(X_train)\n",
    "X_test = scaler.transform(X_test)\n",
    "\n",
    "X_train = X_train.reshape(X_train.shape[0],X_train.shape[1],1)\n",
    "X_test = X_test.reshape(X_test.shape[0],X_test.shape[1],1)\n",
    "\n",
    "print(X_train.shape, X_test.shape)"
   ]
  },
  {
   "cell_type": "code",
   "execution_count": null,
   "id": "cd2ad4a6-b346-49b1-832d-d99eb1f4ed60",
   "metadata": {},
   "outputs": [],
   "source": []
  },
  {
   "cell_type": "code",
   "execution_count": 43,
   "id": "a42e3310-8e49-4174-8ab4-ba9e73ac3141",
   "metadata": {
    "execution": {
     "iopub.execute_input": "2022-10-16T03:50:04.297565Z",
     "iopub.status.busy": "2022-10-16T03:50:04.297262Z",
     "iopub.status.idle": "2022-10-16T04:04:39.727792Z",
     "shell.execute_reply": "2022-10-16T04:04:39.727091Z"
    }
   },
   "outputs": [
    {
     "data": {
      "image/png": "[encoded data removed]",
      "text/plain": [
       "<Figure size 864x864 with 4 Axes>"
      ]
     },
     "metadata": {
      "needs_background": "light"
     },
     "output_type": "display_data"
    },
    {
     "name": "stdout",
     "output_type": "stream",
     "text": [
      "accuracy\n",
      "\ttraining         \t (min:    0.586, max:    0.812, cur:    0.812)\n",
      "\tvalidation       \t (min:    0.697, max:    0.821, cur:    0.821)\n",
      "auc\n",
      "\ttraining         \t (min:    0.625, max:    0.873, cur:    0.873)\n",
      "\tvalidation       \t (min:    0.762, max:    0.876, cur:    0.875)\n",
      "Loss\n",
      "\ttraining         \t (min:    0.434, max:    0.664, cur:    0.434)\n",
      "\tvalidation       \t (min:    0.428, max:    0.663, cur:    0.428)\n",
      "158/158 [==============================] - 5s 33ms/step - loss: 0.4338 - accuracy: 0.8118 - auc: 0.8731 - val_loss: 0.4278 - val_accuracy: 0.8209 - val_auc: 0.8752\n"
     ]
    }
   ],
   "source": [
    "#Fold 5\n",
    "start = time.time()\n",
    "model = run_model(X_train, X_test, y_train, y_test)\n",
    "end = time.time()\n",
    "training_time.append(end-start)"
   ]
  },
  {
   "cell_type": "code",
   "execution_count": 44,
   "id": "29a30eca-8bf5-4d37-9f22-34c7911bef98",
   "metadata": {
    "execution": {
     "iopub.execute_input": "2022-10-16T04:04:39.733137Z",
     "iopub.status.busy": "2022-10-16T04:04:39.732924Z",
     "iopub.status.idle": "2022-10-16T04:04:41.134953Z",
     "shell.execute_reply": "2022-10-16T04:04:41.133819Z"
    }
   },
   "outputs": [],
   "source": [
    "start = time.time()\n",
    "y_pred = model.predict(X_test)\n",
    "end = time.time()\n",
    "testing_time.append(end-start)\n",
    "testing_size.append(X_test.shape)\n",
    "\n",
    "y_pred = np.argmax(y_pred, axis=1)\n",
    "y_true = np.argmax(y_test, axis=1)\n",
    "\n",
    "precision_val.append(precision_score(y_true, y_pred, average='weighted'))\n",
    "recall_val.append(recall_score(y_true, y_pred, average='weighted'))\n",
    "auc_val.append(roc_auc_score(y_true, y_pred, average='weighted'))\n",
    "\n",
    "\n",
    "cm = multilabel_confusion_matrix(y_true, y_pred)\n",
    "\n",
    "a = []\n",
    "\n",
    "for i in range(len(cm)):\n",
    "    a.append(cm[i].ravel())\n",
    "\n",
    "tp, fn, fp, tn =np.sum(np.array(a), axis = 0)\n",
    "\n",
    "specificity_val.append(tn / (tn+fp)) #specificity\n",
    "sensitivity_val.append(tp / (tp+fn)) #sensitivity \n",
    "\n",
    "f1score_val.append(f1_score(y_true, y_pred, average='weighted'))\n",
    "accuracy_val.append(accuracy_score(y_true, y_pred))"
   ]
  },
  {
   "cell_type": "code",
   "execution_count": null,
   "id": "15b38f1d-ad09-4af7-935a-769ef9a17364",
   "metadata": {},
   "outputs": [],
   "source": []
  },
  {
   "cell_type": "code",
   "execution_count": 45,
   "id": "faab6389-e370-4c32-a714-20bb6bb015db",
   "metadata": {
    "execution": {
     "iopub.execute_input": "2022-10-16T04:04:41.141096Z",
     "iopub.status.busy": "2022-10-16T04:04:41.140797Z",
     "iopub.status.idle": "2022-10-16T04:04:41.153809Z",
     "shell.execute_reply": "2022-10-16T04:04:41.152952Z"
    }
   },
   "outputs": [
    {
     "name": "stdout",
     "output_type": "stream",
     "text": [
      "([0.827575904392765, 0.8304590978725435, 0.8268250822220181, 0.8220248448063583, 0.831267668743751], 0.8276305196074872, [0.8147632311977716, 0.8147632311977716, 0.8123756466374851, 0.8065671641791045, 0.8208955223880597], 0.8138729591200384, [0.8147632311977716, 0.8147632311977716, 0.8123756466374851, 0.8065671641791045, 0.8208955223880597], 0.8138729591200384, [0.8147632311977716, 0.8147632311977716, 0.8123756466374851, 0.8065671641791045, 0.8208955223880597], 0.8138729591200384, [0.8129340252270889, 0.8121189375497627, 0.8104184812046393, 0.8049888723252245, 0.8190916569399459], 0.8119103946493323, [0.8147632311977716, 0.8147632311977716, 0.8123756466374851, 0.8065671641791045, 0.8208955223880597], 0.8138729591200384, [0.8147632311977715, 0.8129518343745036, 0.8129517735071868, 0.8095012504649409, 0.819115270030426], 0.8138566719149656, [465.8330955505371, 1256.1425023078918, 934.7031383514404, 909.3242425918579, 875.4267573356628], [1.3924622535705566, 1.3611226081848145, 1.6886467933654785, 1.3112292289733887, 1.3805692195892334], [(5026, 10, 1), (5026, 10, 1), (5026, 10, 1), (5025, 10, 1), (5025, 10, 1)])\n"
     ]
    }
   ],
   "source": [
    "temp = precision_val, np.mean(precision_val), recall_val, np.mean(recall_val), specificity_val, np.mean(specificity_val), sensitivity_val, np.mean(sensitivity_val), f1score_val, np.mean(f1score_val), accuracy_val, np.mean(accuracy_val), auc_val, np.mean(auc_val), training_time, testing_time, testing_size\n",
    "print(temp)\n",
    "\n",
    "Data_Save = []\n",
    "Data_Save.append(temp)\n",
    "pd.DataFrame(Data_Save).to_csv('data_AADIP_GILG-TR_PCA5.csv')"
   ]
  },
  {
   "cell_type": "code",
   "execution_count": null,
   "id": "76f71ed4-0935-4da9-8198-0912b88ef802",
   "metadata": {},
   "outputs": [],
   "source": []
  },
  {
   "cell_type": "code",
   "execution_count": null,
   "id": "73d2b5d7-2afe-41a7-9b7e-099002f8e02c",
   "metadata": {},
   "outputs": [],
   "source": []
  }
 ],
 "metadata": {
  "kernelspec": {
   "display_name": "Python 3 (ipykernel)",
   "language": "python",
   "name": "python3"
  },
  "language_info": {
   "codemirror_mode": {
    "name": "ipython",
    "version": 3
   },
   "file_extension": ".py",
   "mimetype": "text/x-python",
   "name": "python",
   "nbconvert_exporter": "python",
   "pygments_lexer": "ipython3",
   "version": "3.9.15"
  },
  "widgets": {
   "application/vnd.jupyter.widget-state+json": {
    "state": {
     "48aa16778bb345669cee001ca4ccb82b": {
      "model_module": "@jupyter-widgets/base",
      "model_module_version": "2.0.0",
      "model_name": "LayoutModel",
      "state": {
       "_model_module": "@jupyter-widgets/base",
       "_model_module_version": "2.0.0",
       "_model_name": "LayoutModel",
       "_view_count": null,
       "_view_module": "@jupyter-widgets/base",
       "_view_module_version": "2.0.0",
       "_view_name": "LayoutView",
       "align_content": null,
       "align_items": null,
       "align_self": null,
       "border_bottom": null,
       "border_left": null,
       "border_right": null,
       "border_top": null,
       "bottom": null,
       "display": null,
       "flex": null,
       "flex_flow": null,
       "grid_area": null,
       "grid_auto_columns": null,
       "grid_auto_flow": null,
       "grid_auto_rows": null,
       "grid_column": null,
       "grid_gap": null,
       "grid_row": null,
       "grid_template_areas": null,
       "grid_template_columns": null,
       "grid_template_rows": null,
       "height": null,
       "justify_content": null,
       "justify_items": null,
       "left": null,
       "margin": null,
       "max_height": null,
       "max_width": null,
       "min_height": null,
       "min_width": null,
       "object_fit": null,
       "object_position": null,
       "order": null,
       "overflow": null,
       "padding": null,
       "right": null,
       "top": null,
       "visibility": null,
       "width": null
      }
     },
     "4fb186b15173437b93b75b7e42116342": {
      "model_module": "@jupyter-widgets/base",
      "model_module_version": "2.0.0",
      "model_name": "LayoutModel",
      "state": {
       "_model_module": "@jupyter-widgets/base",
       "_model_module_version": "2.0.0",
       "_model_name": "LayoutModel",
       "_view_count": null,
       "_view_module": "@jupyter-widgets/base",
       "_view_module_version": "2.0.0",
       "_view_name": "LayoutView",
       "align_content": null,
       "align_items": null,
       "align_self": null,
       "border_bottom": null,
       "border_left": null,
       "border_right": null,
       "border_top": null,
       "bottom": null,
       "display": null,
       "flex": null,
       "flex_flow": null,
       "grid_area": null,
       "grid_auto_columns": null,
       "grid_auto_flow": null,
       "grid_auto_rows": null,
       "grid_column": null,
       "grid_gap": null,
       "grid_row": null,
       "grid_template_areas": null,
       "grid_template_columns": null,
       "grid_template_rows": null,
       "height": null,
       "justify_content": null,
       "justify_items": null,
       "left": null,
       "margin": null,
       "max_height": null,
       "max_width": null,
       "min_height": null,
       "min_width": null,
       "object_fit": null,
       "object_position": null,
       "order": null,
       "overflow": null,
       "padding": null,
       "right": null,
       "top": null,
       "visibility": null,
       "width": null
      }
     },
     "567c0e6f148545ceb5787a9d24d11549": {
      "model_module": "@jupyter-widgets/controls",
      "model_module_version": "2.0.0",
      "model_name": "ProgressStyleModel",
      "state": {
       "_model_module": "@jupyter-widgets/controls",
       "_model_module_version": "2.0.0",
       "_model_name": "ProgressStyleModel",
       "_view_count": null,
       "_view_module": "@jupyter-widgets/base",
       "_view_module_version": "2.0.0",
       "_view_name": "StyleView",
       "bar_color": null,
       "description_width": ""
      }
     },
     "72e432a923804dd9b455be18b467399f": {
      "model_module": "@jupyter-widgets/controls",
      "model_module_version": "2.0.0",
      "model_name": "HTMLModel",
      "state": {
       "_dom_classes": [],
       "_model_module": "@jupyter-widgets/controls",
       "_model_module_version": "2.0.0",
       "_model_name": "HTMLModel",
       "_view_count": null,
       "_view_module": "@jupyter-widgets/controls",
       "_view_module_version": "2.0.0",
       "_view_name": "HTMLView",
       "description": "",
       "description_allow_html": false,
       "layout": "IPY_MODEL_48aa16778bb345669cee001ca4ccb82b",
       "placeholder": "​",
       "style": "IPY_MODEL_8da7d25ab6c44ecea4665154575bf57e",
       "tabbable": null,
       "tooltip": null,
       "value": "target: 100%"
      }
     },
     "8124e0cf007d40e1ae601656226cd86e": {
      "model_module": "@jupyter-widgets/base",
      "model_module_version": "2.0.0",
      "model_name": "LayoutModel",
      "state": {
       "_model_module": "@jupyter-widgets/base",
       "_model_module_version": "2.0.0",
       "_model_name": "LayoutModel",
       "_view_count": null,
       "_view_module": "@jupyter-widgets/base",
       "_view_module_version": "2.0.0",
       "_view_name": "LayoutView",
       "align_content": null,
       "align_items": null,
       "align_self": null,
       "border_bottom": null,
       "border_left": null,
       "border_right": null,
       "border_top": null,
       "bottom": null,
       "display": null,
       "flex": null,
       "flex_flow": null,
       "grid_area": null,
       "grid_auto_columns": null,
       "grid_auto_flow": null,
       "grid_auto_rows": null,
       "grid_column": null,
       "grid_gap": null,
       "grid_row": null,
       "grid_template_areas": null,
       "grid_template_columns": null,
       "grid_template_rows": null,
       "height": null,
       "justify_content": null,
       "justify_items": null,
       "left": null,
       "margin": null,
       "max_height": null,
       "max_width": null,
       "min_height": null,
       "min_width": null,
       "object_fit": null,
       "object_position": null,
       "order": null,
       "overflow": null,
       "padding": null,
       "right": null,
       "top": null,
       "visibility": null,
       "width": null
      }
     },
     "8574392f09f54a6297f0d73df9566821": {
      "model_module": "@jupyter-widgets/controls",
      "model_module_version": "2.0.0",
      "model_name": "HTMLModel",
      "state": {
       "_dom_classes": [],
       "_model_module": "@jupyter-widgets/controls",
       "_model_module_version": "2.0.0",
       "_model_name": "HTMLModel",
       "_view_count": null,
       "_view_module": "@jupyter-widgets/controls",
       "_view_module_version": "2.0.0",
       "_view_name": "HTMLView",
       "description": "",
       "description_allow_html": false,
       "layout": "IPY_MODEL_cef92f245e9e43848ee4222113b07465",
       "placeholder": "​",
       "style": "IPY_MODEL_ad03e1ee045547b28e9f29b8ec175be3",
       "tabbable": null,
       "tooltip": null,
       "value": " 1/1 [00:02&lt;00:00,  2.41s/it]"
      }
     },
     "8da7d25ab6c44ecea4665154575bf57e": {
      "model_module": "@jupyter-widgets/controls",
      "model_module_version": "2.0.0",
      "model_name": "HTMLStyleModel",
      "state": {
       "_model_module": "@jupyter-widgets/controls",
       "_model_module_version": "2.0.0",
       "_model_name": "HTMLStyleModel",
       "_view_count": null,
       "_view_module": "@jupyter-widgets/base",
       "_view_module_version": "2.0.0",
       "_view_name": "StyleView",
       "background": null,
       "description_width": "",
       "font_size": null,
       "text_color": null
      }
     },
     "9db846f5bdc24ad299110437cd0c5c0e": {
      "model_module": "@jupyter-widgets/controls",
      "model_module_version": "2.0.0",
      "model_name": "FloatProgressModel",
      "state": {
       "_dom_classes": [],
       "_model_module": "@jupyter-widgets/controls",
       "_model_module_version": "2.0.0",
       "_model_name": "FloatProgressModel",
       "_view_count": null,
       "_view_module": "@jupyter-widgets/controls",
       "_view_module_version": "2.0.0",
       "_view_name": "ProgressView",
       "bar_style": "success",
       "description": "",
       "description_allow_html": false,
       "layout": "IPY_MODEL_8124e0cf007d40e1ae601656226cd86e",
       "max": 1,
       "min": 0,
       "orientation": "horizontal",
       "style": "IPY_MODEL_567c0e6f148545ceb5787a9d24d11549",
       "tabbable": null,
       "tooltip": null,
       "value": 1
      }
     },
     "ad03e1ee045547b28e9f29b8ec175be3": {
      "model_module": "@jupyter-widgets/controls",
      "model_module_version": "2.0.0",
      "model_name": "HTMLStyleModel",
      "state": {
       "_model_module": "@jupyter-widgets/controls",
       "_model_module_version": "2.0.0",
       "_model_name": "HTMLStyleModel",
       "_view_count": null,
       "_view_module": "@jupyter-widgets/base",
       "_view_module_version": "2.0.0",
       "_view_name": "StyleView",
       "background": null,
       "description_width": "",
       "font_size": null,
       "text_color": null
      }
     },
     "cef92f245e9e43848ee4222113b07465": {
      "model_module": "@jupyter-widgets/base",
      "model_module_version": "2.0.0",
      "model_name": "LayoutModel",
      "state": {
       "_model_module": "@jupyter-widgets/base",
       "_model_module_version": "2.0.0",
       "_model_name": "LayoutModel",
       "_view_count": null,
       "_view_module": "@jupyter-widgets/base",
       "_view_module_version": "2.0.0",
       "_view_name": "LayoutView",
       "align_content": null,
       "align_items": null,
       "align_self": null,
       "border_bottom": null,
       "border_left": null,
       "border_right": null,
       "border_top": null,
       "bottom": null,
       "display": null,
       "flex": null,
       "flex_flow": null,
       "grid_area": null,
       "grid_auto_columns": null,
       "grid_auto_flow": null,
       "grid_auto_rows": null,
       "grid_column": null,
       "grid_gap": null,
       "grid_row": null,
       "grid_template_areas": null,
       "grid_template_columns": null,
       "grid_template_rows": null,
       "height": null,
       "justify_content": null,
       "justify_items": null,
       "left": null,
       "margin": null,
       "max_height": null,
       "max_width": null,
       "min_height": null,
       "min_width": null,
       "object_fit": null,
       "object_position": null,
       "order": null,
       "overflow": null,
       "padding": null,
       "right": null,
       "top": null,
       "visibility": null,
       "width": null
      }
     },
     "d59aadc83ce34522ae3070997ff777a8": {
      "model_module": "@jupyter-widgets/controls",
      "model_module_version": "2.0.0",
      "model_name": "HBoxModel",
      "state": {
       "_dom_classes": [],
       "_model_module": "@jupyter-widgets/controls",
       "_model_module_version": "2.0.0",
       "_model_name": "HBoxModel",
       "_view_count": null,
       "_view_module": "@jupyter-widgets/controls",
       "_view_module_version": "2.0.0",
       "_view_name": "HBoxView",
       "box_style": "",
       "children": [
        "IPY_MODEL_72e432a923804dd9b455be18b467399f",
        "IPY_MODEL_9db846f5bdc24ad299110437cd0c5c0e",
        "IPY_MODEL_8574392f09f54a6297f0d73df9566821"
       ],
       "layout": "IPY_MODEL_4fb186b15173437b93b75b7e42116342",
       "tabbable": null,
       "tooltip": null
      }
     }
    },
    "version_major": 2,
    "version_minor": 0
   }
  }
 },
 "nbformat": 4,
 "nbformat_minor": 5
}
